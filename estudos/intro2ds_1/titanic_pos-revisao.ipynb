{
 "cells": [
  {
   "cell_type": "markdown",
   "metadata": {},
   "source": [
    "## **Desastre do Titanic**\n",
    "\n",
    "Rodolfo Viana<br>22 de novembro de 2018\n",
    "\n",
    "### Introdução\n",
    "\n",
    "---\n",
    "\n",
    "Esta é uma análise exploratória dos registros de passageiros do Titanic. Os dados foram fornecidos pela plataforma Kaggle para o projeto final do nanodegree Fundamentos de Ciência de Dados I, da Udacity.\n",
    "\n",
    "O objetivo da análise é responder a 16 perguntas. São elas:\n",
    "\n",
    "1. Quantos passageiros havia no navio por gênero, em número absoluto e em porcentagem?\n",
    "2. Quantos passageiros estavam em cada classe, em número absoluto e em porcentagem?\n",
    "3. Quais os gêneros dos passageiros por classe?\n",
    "4. Qual a faixa etária por gênero?\n",
    "5. Quem eram os passageiros mais jovem e mais idoso?\n",
    "6. Quantos passageiros viajavam acompanhados?\n",
    "7. Quantos passageiros viajavam sozinhos?\n",
    "8. Quantos passageiros embarcaram em cada classe, em cada porto?\n",
    "9. Qual o valor médio do tíquete para cada classe?\n",
    "10. Qual o valor médio do tíquete em cada classe para que viajava sozinho?\n",
    "11. Qual o valor médio do tíquete em cada classe para que viajava acompanhado?\n",
    "12. Quem não pagou passagem?\n",
    "13. Qual a idade média das vítimas do naufrágio?\n",
    "14. Qual a idade do sobrevivente mais novo?\n",
    "15. Os sobreviventes são de que gênero, em valores absolutos e em proporção?\n",
    "16. Qual a porcentagem de sobreviventes em cada classe do navio?\n",
    "\n",
    "Para isso, serão usadas as bibliotecas `Pandas`, `Numpy`, `Matplotlib` e `Seaborn`."
   ]
  },
  {
   "cell_type": "code",
   "execution_count": 1,
   "metadata": {},
   "outputs": [],
   "source": [
    "import pandas as pd\n",
    "import numpy as np\n",
    "import matplotlib.pyplot as plt\n",
    "%matplotlib inline\n",
    "import seaborn as sns\n",
    "pd.set_option('display.max_rows', None)\n",
    "sns.set(style='darkgrid', font_scale=1.2)\n",
    "\n",
    "titanic = pd.read_csv('data/titanic-data-6.csv')"
   ]
  },
  {
   "cell_type": "markdown",
   "metadata": {},
   "source": [
    "## Limpeza\n",
    "\n",
    "---\n",
    "\n",
    "Após a leitura dos dados, observaremos a estrutura em que os registros estão disponíveis. Isso será feito com `.head()`, para ver os registros iniciais. Se for conveniente, podemos renomear colunas com `.rename()` ou traduzir valores, com `.map({key: value})`, considerando que os dados estão em inglês. \n",
    "\n",
    "Em seguida, obteremos informações sobre os tipos e se há valores nulos com `.info()`. Se houver necessidade, descartaremos (com `.dropna()`) ou preencheremos (com `.fillna()`) os valores nulos; se os valores nulos não tiverem influência nos resultados, ignoraremos."
   ]
  },
  {
   "cell_type": "code",
   "execution_count": 2,
   "metadata": {},
   "outputs": [
    {
     "data": {
      "text/html": [
       "<div>\n",
       "<style scoped>\n",
       "    .dataframe tbody tr th:only-of-type {\n",
       "        vertical-align: middle;\n",
       "    }\n",
       "\n",
       "    .dataframe tbody tr th {\n",
       "        vertical-align: top;\n",
       "    }\n",
       "\n",
       "    .dataframe thead th {\n",
       "        text-align: right;\n",
       "    }\n",
       "</style>\n",
       "<table border=\"1\" class=\"dataframe\">\n",
       "  <thead>\n",
       "    <tr style=\"text-align: right;\">\n",
       "      <th></th>\n",
       "      <th>PassengerId</th>\n",
       "      <th>Survived</th>\n",
       "      <th>Pclass</th>\n",
       "      <th>Name</th>\n",
       "      <th>Sex</th>\n",
       "      <th>Age</th>\n",
       "      <th>SibSp</th>\n",
       "      <th>Parch</th>\n",
       "      <th>Ticket</th>\n",
       "      <th>Fare</th>\n",
       "      <th>Cabin</th>\n",
       "      <th>Embarked</th>\n",
       "    </tr>\n",
       "  </thead>\n",
       "  <tbody>\n",
       "    <tr>\n",
       "      <th>0</th>\n",
       "      <td>1</td>\n",
       "      <td>0</td>\n",
       "      <td>3</td>\n",
       "      <td>Braund, Mr. Owen Harris</td>\n",
       "      <td>male</td>\n",
       "      <td>22.0</td>\n",
       "      <td>1</td>\n",
       "      <td>0</td>\n",
       "      <td>A/5 21171</td>\n",
       "      <td>7.2500</td>\n",
       "      <td>NaN</td>\n",
       "      <td>S</td>\n",
       "    </tr>\n",
       "    <tr>\n",
       "      <th>1</th>\n",
       "      <td>2</td>\n",
       "      <td>1</td>\n",
       "      <td>1</td>\n",
       "      <td>Cumings, Mrs. John Bradley (Florence Briggs Th...</td>\n",
       "      <td>female</td>\n",
       "      <td>38.0</td>\n",
       "      <td>1</td>\n",
       "      <td>0</td>\n",
       "      <td>PC 17599</td>\n",
       "      <td>71.2833</td>\n",
       "      <td>C85</td>\n",
       "      <td>C</td>\n",
       "    </tr>\n",
       "    <tr>\n",
       "      <th>2</th>\n",
       "      <td>3</td>\n",
       "      <td>1</td>\n",
       "      <td>3</td>\n",
       "      <td>Heikkinen, Miss. Laina</td>\n",
       "      <td>female</td>\n",
       "      <td>26.0</td>\n",
       "      <td>0</td>\n",
       "      <td>0</td>\n",
       "      <td>STON/O2. 3101282</td>\n",
       "      <td>7.9250</td>\n",
       "      <td>NaN</td>\n",
       "      <td>S</td>\n",
       "    </tr>\n",
       "    <tr>\n",
       "      <th>3</th>\n",
       "      <td>4</td>\n",
       "      <td>1</td>\n",
       "      <td>1</td>\n",
       "      <td>Futrelle, Mrs. Jacques Heath (Lily May Peel)</td>\n",
       "      <td>female</td>\n",
       "      <td>35.0</td>\n",
       "      <td>1</td>\n",
       "      <td>0</td>\n",
       "      <td>113803</td>\n",
       "      <td>53.1000</td>\n",
       "      <td>C123</td>\n",
       "      <td>S</td>\n",
       "    </tr>\n",
       "    <tr>\n",
       "      <th>4</th>\n",
       "      <td>5</td>\n",
       "      <td>0</td>\n",
       "      <td>3</td>\n",
       "      <td>Allen, Mr. William Henry</td>\n",
       "      <td>male</td>\n",
       "      <td>35.0</td>\n",
       "      <td>0</td>\n",
       "      <td>0</td>\n",
       "      <td>373450</td>\n",
       "      <td>8.0500</td>\n",
       "      <td>NaN</td>\n",
       "      <td>S</td>\n",
       "    </tr>\n",
       "  </tbody>\n",
       "</table>\n",
       "</div>"
      ],
      "text/plain": [
       "   PassengerId  Survived  Pclass  \\\n",
       "0            1         0       3   \n",
       "1            2         1       1   \n",
       "2            3         1       3   \n",
       "3            4         1       1   \n",
       "4            5         0       3   \n",
       "\n",
       "                                                Name     Sex   Age  SibSp  \\\n",
       "0                            Braund, Mr. Owen Harris    male  22.0      1   \n",
       "1  Cumings, Mrs. John Bradley (Florence Briggs Th...  female  38.0      1   \n",
       "2                             Heikkinen, Miss. Laina  female  26.0      0   \n",
       "3       Futrelle, Mrs. Jacques Heath (Lily May Peel)  female  35.0      1   \n",
       "4                           Allen, Mr. William Henry    male  35.0      0   \n",
       "\n",
       "   Parch            Ticket     Fare Cabin Embarked  \n",
       "0      0         A/5 21171   7.2500   NaN        S  \n",
       "1      0          PC 17599  71.2833   C85        C  \n",
       "2      0  STON/O2. 3101282   7.9250   NaN        S  \n",
       "3      0            113803  53.1000  C123        S  \n",
       "4      0            373450   8.0500   NaN        S  "
      ]
     },
     "execution_count": 2,
     "metadata": {},
     "output_type": "execute_result"
    }
   ],
   "source": [
    "titanic.head()"
   ]
  },
  {
   "cell_type": "markdown",
   "metadata": {},
   "source": [
    "Vamos traduzir ou mudar os headers para algo compreensível:"
   ]
  },
  {
   "cell_type": "code",
   "execution_count": 3,
   "metadata": {},
   "outputs": [],
   "source": [
    "titanic.rename(columns={'PassengerId': 'id', \n",
    "                        'Survived': 'status_sobrevivencia', \n",
    "                        'Pclass': 'classe', \n",
    "                        'Name': 'nome', \n",
    "                        'Sex': 'genero', \n",
    "                        'Age': 'idade', \n",
    "                        'SibSp': 'conjuge_irmaos', \n",
    "                        'Parch': 'pais_filhos', \n",
    "                        'Ticket': 'passagem', \n",
    "                        'Fare': 'valor', \n",
    "                        'Cabin': 'cabine', \n",
    "                        'Embarked': 'porto_origem'}, \n",
    "               inplace=True)"
   ]
  },
  {
   "cell_type": "code",
   "execution_count": 4,
   "metadata": {},
   "outputs": [
    {
     "name": "stdout",
     "output_type": "stream",
     "text": [
      "<class 'pandas.core.frame.DataFrame'>\n",
      "RangeIndex: 891 entries, 0 to 890\n",
      "Data columns (total 12 columns):\n",
      "id                      891 non-null int64\n",
      "status_sobrevivencia    891 non-null int64\n",
      "classe                  891 non-null int64\n",
      "nome                    891 non-null object\n",
      "genero                  891 non-null object\n",
      "idade                   714 non-null float64\n",
      "conjuge_irmaos          891 non-null int64\n",
      "pais_filhos             891 non-null int64\n",
      "passagem                891 non-null object\n",
      "valor                   891 non-null float64\n",
      "cabine                  204 non-null object\n",
      "porto_origem            889 non-null object\n",
      "dtypes: float64(2), int64(5), object(5)\n",
      "memory usage: 66.2+ KB\n"
     ]
    }
   ],
   "source": [
    "titanic.info()"
   ]
  },
  {
   "cell_type": "markdown",
   "metadata": {},
   "source": [
    "Temos em análise 891 registros em 12 colunas. Em `idade`, `cabine` e `porto_origem` há valores nulos. No decorrer da análise veremos se eles influenciam nos resultados.\n",
    "\n",
    "Vamos mudar, em `status_sobrevivencia` e `porto_origem`, as chaves pelo que elas representam. Assim não precisamos consultar a descrição sempre. Também em `genero`, para traduzir."
   ]
  },
  {
   "cell_type": "code",
   "execution_count": 5,
   "metadata": {},
   "outputs": [
    {
     "data": {
      "text/html": [
       "<div>\n",
       "<style scoped>\n",
       "    .dataframe tbody tr th:only-of-type {\n",
       "        vertical-align: middle;\n",
       "    }\n",
       "\n",
       "    .dataframe tbody tr th {\n",
       "        vertical-align: top;\n",
       "    }\n",
       "\n",
       "    .dataframe thead th {\n",
       "        text-align: right;\n",
       "    }\n",
       "</style>\n",
       "<table border=\"1\" class=\"dataframe\">\n",
       "  <thead>\n",
       "    <tr style=\"text-align: right;\">\n",
       "      <th></th>\n",
       "      <th>id</th>\n",
       "      <th>status_sobrevivencia</th>\n",
       "      <th>classe</th>\n",
       "      <th>nome</th>\n",
       "      <th>genero</th>\n",
       "      <th>idade</th>\n",
       "      <th>conjuge_irmaos</th>\n",
       "      <th>pais_filhos</th>\n",
       "      <th>passagem</th>\n",
       "      <th>valor</th>\n",
       "      <th>cabine</th>\n",
       "      <th>porto_origem</th>\n",
       "    </tr>\n",
       "  </thead>\n",
       "  <tbody>\n",
       "    <tr>\n",
       "      <th>0</th>\n",
       "      <td>1</td>\n",
       "      <td>Não</td>\n",
       "      <td>3</td>\n",
       "      <td>Braund, Mr. Owen Harris</td>\n",
       "      <td>Masculino</td>\n",
       "      <td>22.0</td>\n",
       "      <td>1</td>\n",
       "      <td>0</td>\n",
       "      <td>A/5 21171</td>\n",
       "      <td>7.2500</td>\n",
       "      <td>NaN</td>\n",
       "      <td>Southampton</td>\n",
       "    </tr>\n",
       "    <tr>\n",
       "      <th>1</th>\n",
       "      <td>2</td>\n",
       "      <td>Sim</td>\n",
       "      <td>1</td>\n",
       "      <td>Cumings, Mrs. John Bradley (Florence Briggs Th...</td>\n",
       "      <td>Feminino</td>\n",
       "      <td>38.0</td>\n",
       "      <td>1</td>\n",
       "      <td>0</td>\n",
       "      <td>PC 17599</td>\n",
       "      <td>71.2833</td>\n",
       "      <td>C85</td>\n",
       "      <td>Cherbourg</td>\n",
       "    </tr>\n",
       "    <tr>\n",
       "      <th>2</th>\n",
       "      <td>3</td>\n",
       "      <td>Sim</td>\n",
       "      <td>3</td>\n",
       "      <td>Heikkinen, Miss. Laina</td>\n",
       "      <td>Feminino</td>\n",
       "      <td>26.0</td>\n",
       "      <td>0</td>\n",
       "      <td>0</td>\n",
       "      <td>STON/O2. 3101282</td>\n",
       "      <td>7.9250</td>\n",
       "      <td>NaN</td>\n",
       "      <td>Southampton</td>\n",
       "    </tr>\n",
       "    <tr>\n",
       "      <th>3</th>\n",
       "      <td>4</td>\n",
       "      <td>Sim</td>\n",
       "      <td>1</td>\n",
       "      <td>Futrelle, Mrs. Jacques Heath (Lily May Peel)</td>\n",
       "      <td>Feminino</td>\n",
       "      <td>35.0</td>\n",
       "      <td>1</td>\n",
       "      <td>0</td>\n",
       "      <td>113803</td>\n",
       "      <td>53.1000</td>\n",
       "      <td>C123</td>\n",
       "      <td>Southampton</td>\n",
       "    </tr>\n",
       "    <tr>\n",
       "      <th>4</th>\n",
       "      <td>5</td>\n",
       "      <td>Não</td>\n",
       "      <td>3</td>\n",
       "      <td>Allen, Mr. William Henry</td>\n",
       "      <td>Masculino</td>\n",
       "      <td>35.0</td>\n",
       "      <td>0</td>\n",
       "      <td>0</td>\n",
       "      <td>373450</td>\n",
       "      <td>8.0500</td>\n",
       "      <td>NaN</td>\n",
       "      <td>Southampton</td>\n",
       "    </tr>\n",
       "  </tbody>\n",
       "</table>\n",
       "</div>"
      ],
      "text/plain": [
       "   id status_sobrevivencia  classe  \\\n",
       "0   1                  Não       3   \n",
       "1   2                  Sim       1   \n",
       "2   3                  Sim       3   \n",
       "3   4                  Sim       1   \n",
       "4   5                  Não       3   \n",
       "\n",
       "                                                nome     genero  idade  \\\n",
       "0                            Braund, Mr. Owen Harris  Masculino   22.0   \n",
       "1  Cumings, Mrs. John Bradley (Florence Briggs Th...   Feminino   38.0   \n",
       "2                             Heikkinen, Miss. Laina   Feminino   26.0   \n",
       "3       Futrelle, Mrs. Jacques Heath (Lily May Peel)   Feminino   35.0   \n",
       "4                           Allen, Mr. William Henry  Masculino   35.0   \n",
       "\n",
       "   conjuge_irmaos  pais_filhos          passagem    valor cabine porto_origem  \n",
       "0               1            0         A/5 21171   7.2500    NaN  Southampton  \n",
       "1               1            0          PC 17599  71.2833    C85    Cherbourg  \n",
       "2               0            0  STON/O2. 3101282   7.9250    NaN  Southampton  \n",
       "3               1            0            113803  53.1000   C123  Southampton  \n",
       "4               0            0            373450   8.0500    NaN  Southampton  "
      ]
     },
     "execution_count": 5,
     "metadata": {},
     "output_type": "execute_result"
    }
   ],
   "source": [
    "titanic['status_sobrevivencia'] = titanic['status_sobrevivencia'].map({0:'Não', 1:'Sim'})\n",
    "titanic['porto_origem'] = titanic['porto_origem'].map({'C':'Cherbourg', 'Q':'Queenstown', 'S': 'Southampton'})\n",
    "titanic['genero'] = titanic['genero'].map({'male':'Masculino', 'female':'Feminino'})\n",
    "titanic.head()"
   ]
  },
  {
   "cell_type": "markdown",
   "metadata": {},
   "source": [
    "### Corpo\n",
    "\n",
    "---\n",
    "\n",
    "Aqui responderemos às perguntas. A primeira é: _quantos passageiros havia no navio por gênero, em número absoluto e em porcentagem?_"
   ]
  },
  {
   "cell_type": "code",
   "execution_count": 6,
   "metadata": {},
   "outputs": [
    {
     "data": {
      "text/html": [
       "<div>\n",
       "<style scoped>\n",
       "    .dataframe tbody tr th:only-of-type {\n",
       "        vertical-align: middle;\n",
       "    }\n",
       "\n",
       "    .dataframe tbody tr th {\n",
       "        vertical-align: top;\n",
       "    }\n",
       "\n",
       "    .dataframe thead th {\n",
       "        text-align: right;\n",
       "    }\n",
       "</style>\n",
       "<table border=\"1\" class=\"dataframe\">\n",
       "  <thead>\n",
       "    <tr style=\"text-align: right;\">\n",
       "      <th></th>\n",
       "      <th>absoluto</th>\n",
       "      <th>percentual</th>\n",
       "    </tr>\n",
       "  </thead>\n",
       "  <tbody>\n",
       "    <tr>\n",
       "      <th>Masculino</th>\n",
       "      <td>577</td>\n",
       "      <td>0.647587</td>\n",
       "    </tr>\n",
       "    <tr>\n",
       "      <th>Feminino</th>\n",
       "      <td>314</td>\n",
       "      <td>0.352413</td>\n",
       "    </tr>\n",
       "  </tbody>\n",
       "</table>\n",
       "</div>"
      ],
      "text/plain": [
       "           absoluto  percentual\n",
       "Masculino       577    0.647587\n",
       "Feminino        314    0.352413"
      ]
     },
     "execution_count": 6,
     "metadata": {},
     "output_type": "execute_result"
    }
   ],
   "source": [
    "def abs_perc(df, header):\n",
    "    \"\"\"\n",
    "    Agrega, do Pandas, as funções value_counts -- valor absoluto -- e \n",
    "    value_counts(normalize=True) -- percentual -- em um único dataframe\n",
    "    Argumentos:\n",
    "        df = dataframe\n",
    "        header = a coluna do dataframe que queremos tratar\n",
    "    Resposta:\n",
    "        dataframe\n",
    "    \"\"\"\n",
    "    x = df[header].value_counts()\n",
    "    x = pd.DataFrame(x)\n",
    "    y = df[header].value_counts(normalize=True)\n",
    "    y = pd.DataFrame(y)\n",
    "    z = pd.concat([x, y], axis=1)\n",
    "    z.columns = ['absoluto', 'percentual']\n",
    "    return z\n",
    "\n",
    "\n",
    "abs_perc(titanic, 'genero')"
   ]
  },
  {
   "cell_type": "markdown",
   "metadata": {},
   "source": [
    "No Titanic, 577 passageiros eram homens (64,75%) e 314 eram mulheres (35,24%). \n",
    "\n",
    "A segunda pergunta é: _quantos passageiros estavam em cada classe, em número absoluto e em porcentagem?_"
   ]
  },
  {
   "cell_type": "code",
   "execution_count": 7,
   "metadata": {},
   "outputs": [
    {
     "data": {
      "text/html": [
       "<div>\n",
       "<style scoped>\n",
       "    .dataframe tbody tr th:only-of-type {\n",
       "        vertical-align: middle;\n",
       "    }\n",
       "\n",
       "    .dataframe tbody tr th {\n",
       "        vertical-align: top;\n",
       "    }\n",
       "\n",
       "    .dataframe thead th {\n",
       "        text-align: right;\n",
       "    }\n",
       "</style>\n",
       "<table border=\"1\" class=\"dataframe\">\n",
       "  <thead>\n",
       "    <tr style=\"text-align: right;\">\n",
       "      <th></th>\n",
       "      <th>absoluto</th>\n",
       "      <th>percentual</th>\n",
       "    </tr>\n",
       "  </thead>\n",
       "  <tbody>\n",
       "    <tr>\n",
       "      <th>3</th>\n",
       "      <td>491</td>\n",
       "      <td>0.551066</td>\n",
       "    </tr>\n",
       "    <tr>\n",
       "      <th>1</th>\n",
       "      <td>216</td>\n",
       "      <td>0.242424</td>\n",
       "    </tr>\n",
       "    <tr>\n",
       "      <th>2</th>\n",
       "      <td>184</td>\n",
       "      <td>0.206510</td>\n",
       "    </tr>\n",
       "  </tbody>\n",
       "</table>\n",
       "</div>"
      ],
      "text/plain": [
       "   absoluto  percentual\n",
       "3       491    0.551066\n",
       "1       216    0.242424\n",
       "2       184    0.206510"
      ]
     },
     "execution_count": 7,
     "metadata": {},
     "output_type": "execute_result"
    }
   ],
   "source": [
    "abs_perc(titanic, 'classe')"
   ]
  },
  {
   "cell_type": "markdown",
   "metadata": {},
   "source": [
    "Havia 216 passageiros na primeira classe (24,24% do total), 184 na segunda (20,65%) e 491 na terceira (55,10%).\n",
    "\n",
    "A terceira pergunta é: _quais os gêneros dos passageiros por classe?_"
   ]
  },
  {
   "cell_type": "code",
   "execution_count": 8,
   "metadata": {},
   "outputs": [
    {
     "data": {
      "text/html": [
       "<div>\n",
       "<style scoped>\n",
       "    .dataframe tbody tr th:only-of-type {\n",
       "        vertical-align: middle;\n",
       "    }\n",
       "\n",
       "    .dataframe tbody tr th {\n",
       "        vertical-align: top;\n",
       "    }\n",
       "\n",
       "    .dataframe thead th {\n",
       "        text-align: right;\n",
       "    }\n",
       "</style>\n",
       "<table border=\"1\" class=\"dataframe\">\n",
       "  <thead>\n",
       "    <tr style=\"text-align: right;\">\n",
       "      <th></th>\n",
       "      <th></th>\n",
       "      <th>absoluto</th>\n",
       "      <th>percentual</th>\n",
       "    </tr>\n",
       "    <tr>\n",
       "      <th>classe</th>\n",
       "      <th>genero</th>\n",
       "      <th></th>\n",
       "      <th></th>\n",
       "    </tr>\n",
       "  </thead>\n",
       "  <tbody>\n",
       "    <tr>\n",
       "      <th rowspan=\"2\" valign=\"top\">1</th>\n",
       "      <th>Masculino</th>\n",
       "      <td>122</td>\n",
       "      <td>0.564815</td>\n",
       "    </tr>\n",
       "    <tr>\n",
       "      <th>Feminino</th>\n",
       "      <td>94</td>\n",
       "      <td>0.435185</td>\n",
       "    </tr>\n",
       "    <tr>\n",
       "      <th rowspan=\"2\" valign=\"top\">2</th>\n",
       "      <th>Masculino</th>\n",
       "      <td>108</td>\n",
       "      <td>0.586957</td>\n",
       "    </tr>\n",
       "    <tr>\n",
       "      <th>Feminino</th>\n",
       "      <td>76</td>\n",
       "      <td>0.413043</td>\n",
       "    </tr>\n",
       "    <tr>\n",
       "      <th rowspan=\"2\" valign=\"top\">3</th>\n",
       "      <th>Masculino</th>\n",
       "      <td>347</td>\n",
       "      <td>0.706721</td>\n",
       "    </tr>\n",
       "    <tr>\n",
       "      <th>Feminino</th>\n",
       "      <td>144</td>\n",
       "      <td>0.293279</td>\n",
       "    </tr>\n",
       "  </tbody>\n",
       "</table>\n",
       "</div>"
      ],
      "text/plain": [
       "                  absoluto  percentual\n",
       "classe genero                         \n",
       "1      Masculino       122    0.564815\n",
       "       Feminino         94    0.435185\n",
       "2      Masculino       108    0.586957\n",
       "       Feminino         76    0.413043\n",
       "3      Masculino       347    0.706721\n",
       "       Feminino        144    0.293279"
      ]
     },
     "execution_count": 8,
     "metadata": {},
     "output_type": "execute_result"
    }
   ],
   "source": [
    "def abs_perc_grp(df, header1, header2):\n",
    "    \"\"\"\n",
    "    Agrupa uma série e, em outra, aplica as funções value_counts\n",
    "    e value_counts(normalize=True)\n",
    "    Argumentos:\n",
    "        df = dataframe\n",
    "        header1 = a série que será agrupada\n",
    "        header2 = a série que trará os números\n",
    "    Resposta:\n",
    "        dataframe\n",
    "    \"\"\"\n",
    "    x = df.groupby(header1)[header2].value_counts()\n",
    "    x = pd.DataFrame(x)\n",
    "    y = df.groupby(header1)[header2].value_counts(normalize=True)\n",
    "    y = pd.DataFrame(y)\n",
    "    z = pd.concat([x, y], axis=1)\n",
    "    z.columns = ['absoluto', 'percentual']\n",
    "    return z\n",
    "\n",
    "\n",
    "abs_perc_grp(titanic, 'classe', 'genero')"
   ]
  },
  {
   "cell_type": "markdown",
   "metadata": {},
   "source": [
    "Na primeira classe havia 122 homens (56,48%) e 94 mulheres (43,51%). Na segunda, 108 homens (58,69%) e 76 mulheres (41,30%). Na terceira, 347 homens (70,67%) e 144 mulheres (29,32%).\n",
    "\n",
    "A pergunta seguinte é: _qual a faixa etária por gênero?_\n",
    "\n",
    "Para respondê-la, vamos ver quantos valores estão nulos em `idade`."
   ]
  },
  {
   "cell_type": "code",
   "execution_count": 9,
   "metadata": {},
   "outputs": [
    {
     "data": {
      "text/plain": [
       "177"
      ]
     },
     "execution_count": 9,
     "metadata": {},
     "output_type": "execute_result"
    }
   ],
   "source": [
    "titanic['idade'].isnull().sum()"
   ]
  },
  {
   "cell_type": "markdown",
   "metadata": {},
   "source": [
    "Há 177 registros com valor nulo -- ou seja, sem idade. Vamos temporariamente remover esses registros."
   ]
  },
  {
   "cell_type": "code",
   "execution_count": 10,
   "metadata": {},
   "outputs": [
    {
     "data": {
      "text/plain": [
       "genero\n",
       "Feminino     27.915709\n",
       "Masculino    30.726645\n",
       "Name: idade, dtype: float64"
      ]
     },
     "execution_count": 10,
     "metadata": {},
     "output_type": "execute_result"
    }
   ],
   "source": [
    "idade_valida = titanic[titanic['idade'].notnull()]\n",
    "idade_valida.groupby('genero')['idade'].mean()"
   ]
  },
  {
   "cell_type": "markdown",
   "metadata": {},
   "source": [
    "(Apenas como teste, vamos fazer o mesmo procedimento, mas sem descartar os valores nulos.)"
   ]
  },
  {
   "cell_type": "code",
   "execution_count": 11,
   "metadata": {},
   "outputs": [
    {
     "data": {
      "text/plain": [
       "genero\n",
       "Feminino     27.915709\n",
       "Masculino    30.726645\n",
       "Name: idade, dtype: float64"
      ]
     },
     "execution_count": 11,
     "metadata": {},
     "output_type": "execute_result"
    }
   ],
   "source": [
    "titanic.groupby('genero')['idade'].mean()"
   ]
  },
  {
   "cell_type": "markdown",
   "metadata": {},
   "source": [
    "O resultado é o mesmo, o que nos leva a acreditar que `.mean()` automaticamente descarta valores nulos.\n",
    "\n",
    "Apesar de termos a média das idades -- 27,9 para mulheres e 30,7 para homens --, não respondemos à pergunta sobre faixa etária. Vamos à ela:"
   ]
  },
  {
   "cell_type": "code",
   "execution_count": 12,
   "metadata": {},
   "outputs": [
    {
     "data": {
      "text/html": [
       "<div>\n",
       "<style scoped>\n",
       "    .dataframe tbody tr th:only-of-type {\n",
       "        vertical-align: middle;\n",
       "    }\n",
       "\n",
       "    .dataframe tbody tr th {\n",
       "        vertical-align: top;\n",
       "    }\n",
       "\n",
       "    .dataframe thead th {\n",
       "        text-align: right;\n",
       "    }\n",
       "</style>\n",
       "<table border=\"1\" class=\"dataframe\">\n",
       "  <thead>\n",
       "    <tr style=\"text-align: right;\">\n",
       "      <th>genero</th>\n",
       "      <th>Feminino</th>\n",
       "      <th>Masculino</th>\n",
       "    </tr>\n",
       "    <tr>\n",
       "      <th>estagio</th>\n",
       "      <th></th>\n",
       "      <th></th>\n",
       "    </tr>\n",
       "  </thead>\n",
       "  <tbody>\n",
       "    <tr>\n",
       "      <th>12 a 17 anos</th>\n",
       "      <td>23</td>\n",
       "      <td>22</td>\n",
       "    </tr>\n",
       "    <tr>\n",
       "      <th>18 a 29 anos</th>\n",
       "      <td>92</td>\n",
       "      <td>179</td>\n",
       "    </tr>\n",
       "    <tr>\n",
       "      <th>30 a 44 anos</th>\n",
       "      <td>78</td>\n",
       "      <td>137</td>\n",
       "    </tr>\n",
       "    <tr>\n",
       "      <th>45 a 59 anos</th>\n",
       "      <td>32</td>\n",
       "      <td>57</td>\n",
       "    </tr>\n",
       "    <tr>\n",
       "      <th>60 anos ou mais</th>\n",
       "      <td>4</td>\n",
       "      <td>22</td>\n",
       "    </tr>\n",
       "    <tr>\n",
       "      <th>Menos de 12 anos</th>\n",
       "      <td>32</td>\n",
       "      <td>36</td>\n",
       "    </tr>\n",
       "    <tr>\n",
       "      <th>Não informado</th>\n",
       "      <td>53</td>\n",
       "      <td>124</td>\n",
       "    </tr>\n",
       "  </tbody>\n",
       "</table>\n",
       "</div>"
      ],
      "text/plain": [
       "genero            Feminino  Masculino\n",
       "estagio                              \n",
       "12 a 17 anos            23         22\n",
       "18 a 29 anos            92        179\n",
       "30 a 44 anos            78        137\n",
       "45 a 59 anos            32         57\n",
       "60 anos ou mais          4         22\n",
       "Menos de 12 anos        32         36\n",
       "Não informado           53        124"
      ]
     },
     "execution_count": 12,
     "metadata": {},
     "output_type": "execute_result"
    }
   ],
   "source": [
    "estagio = []\n",
    "for x in titanic['idade']:\n",
    "    if x < 12:\n",
    "        estagio.append('Menos de 12 anos')\n",
    "    elif 12 <= x < 18:\n",
    "        estagio.append('12 a 17 anos')\n",
    "    elif 18 <= x < 30:\n",
    "        estagio.append('18 a 29 anos')\n",
    "    elif 30 <= x < 45:\n",
    "        estagio.append('30 a 44 anos')\n",
    "    elif 45 <= x < 60:\n",
    "        estagio.append('45 a 59 anos') \n",
    "    elif x >= 60:\n",
    "        estagio.append('60 anos ou mais')\n",
    "    else:\n",
    "        estagio.append('Não informado')\n",
    "titanic['estagio'] = estagio\n",
    "titanic.pivot_table(index=['estagio'], columns=['genero'], values='nome', aggfunc='count')"
   ]
  },
  {
   "cell_type": "markdown",
   "metadata": {},
   "source": [
    "Observamos a existência de:\n",
    "\n",
    "- 68 crianças (36 meninos e 32 meninas)\n",
    "- 45 adolescentes (22 garotos e 23 garotas)\n",
    "- 271 jovens adultos (179 homens e 92 mulheres)\n",
    "- 215 adultos até 44 anos (137 homens e 78 mulheres)\n",
    "- 89 adultos de 45 a 59 anos (57 homens e 32 mulheres)\n",
    "- 26 idosos (22 homens e 4 mulheres)\n",
    "- 177 sem idade informada (124 homens e 53 mulheres)\n",
    "\n",
    "Como exercício, vamos ver a idade em gráfico, com distribuição por gênero:"
   ]
  },
  {
   "cell_type": "code",
   "execution_count": 13,
   "metadata": {},
   "outputs": [
    {
     "data": {
      "image/png": "[encoded data removed]",
      "text/plain": [
       "<Figure size 900x360 with 1 Axes>"
      ]
     },
     "metadata": {},
     "output_type": "display_data"
    }
   ],
   "source": [
    "sns.catplot(x='idade', \n",
    "            y='genero', \n",
    "            data=titanic.query('valor > 0'), \n",
    "            kind='swarm', \n",
    "            height=5, \n",
    "            aspect=2.5);"
   ]
  },
  {
   "cell_type": "markdown",
   "metadata": {},
   "source": [
    "Observamos que há mais homens que mulheres em todos os quadrantes de 10 anos. E que há apenas homens com mais de 65 anos.\n",
    "\n",
    "A pergunta seguinte: _quem eram os passageiros mais jovem e mais idoso?_"
   ]
  },
  {
   "cell_type": "code",
   "execution_count": 14,
   "metadata": {},
   "outputs": [
    {
     "data": {
      "text/plain": [
       "id                                                  804\n",
       "status_sobrevivencia                                Sim\n",
       "classe                                                3\n",
       "nome                    Thomas, Master. Assad Alexander\n",
       "genero                                        Masculino\n",
       "idade                                              0.42\n",
       "conjuge_irmaos                                        0\n",
       "pais_filhos                                           1\n",
       "passagem                                           2625\n",
       "valor                                            8.5167\n",
       "cabine                                              NaN\n",
       "porto_origem                                  Cherbourg\n",
       "estagio                                Menos de 12 anos\n",
       "Name: 803, dtype: object"
      ]
     },
     "execution_count": 14,
     "metadata": {},
     "output_type": "execute_result"
    }
   ],
   "source": [
    "titanic.loc[titanic['idade'].idxmin()]"
   ]
  },
  {
   "cell_type": "code",
   "execution_count": 15,
   "metadata": {},
   "outputs": [
    {
     "data": {
      "text/plain": [
       "id                                                       631\n",
       "status_sobrevivencia                                     Sim\n",
       "classe                                                     1\n",
       "nome                    Barkworth, Mr. Algernon Henry Wilson\n",
       "genero                                             Masculino\n",
       "idade                                                     80\n",
       "conjuge_irmaos                                             0\n",
       "pais_filhos                                                0\n",
       "passagem                                               27042\n",
       "valor                                                     30\n",
       "cabine                                                   A23\n",
       "porto_origem                                     Southampton\n",
       "estagio                                      60 anos ou mais\n",
       "Name: 630, dtype: object"
      ]
     },
     "execution_count": 15,
     "metadata": {},
     "output_type": "execute_result"
    }
   ],
   "source": [
    "titanic.loc[titanic['idade'].idxmax()]"
   ]
  },
  {
   "cell_type": "markdown",
   "metadata": {},
   "source": [
    "O passageiro mais idoso é Mr. Barkworth, com 80 anos. Ele ocupava a cabine A23, pela qual pagou 30 dinheiros, e viajava sozinho. Sobreviveu ao acidente.\n",
    "\n",
    "O passageiro mais novo é Mr. Thomas, com menos de 6 meses de vida. Não há registro de qual cabine ocupava, mas sua passagem na terceira classe custou 8,5 dinheiros. Estava acompanhado por um dos pais, e sobreviveu ao acidente."
   ]
  },
  {
   "cell_type": "markdown",
   "metadata": {},
   "source": [
    "As duas perguntas seguintes são: _quantos passageiros viajavam acompanhados?_ e _quantos passageiros viajavam sozinhos?_"
   ]
  },
  {
   "cell_type": "code",
   "execution_count": 16,
   "metadata": {},
   "outputs": [
    {
     "data": {
      "text/plain": [
       "Sozinho        537\n",
       "Acompanhado    354\n",
       "Name: sozinho_acompanhado, dtype: int64"
      ]
     },
     "execution_count": 16,
     "metadata": {},
     "output_type": "execute_result"
    }
   ],
   "source": [
    "sozinho_acompanhado = []\n",
    "for x, y in zip(titanic['conjuge_irmaos'], titanic['pais_filhos']):\n",
    "    if x == 0 and y == 0:\n",
    "        sozinho_acompanhado.append('Sozinho')\n",
    "    else:\n",
    "        sozinho_acompanhado.append('Acompanhado')\n",
    "titanic['sozinho_acompanhado'] = sozinho_acompanhado\n",
    "titanic['sozinho_acompanhado'].value_counts()"
   ]
  },
  {
   "cell_type": "markdown",
   "metadata": {},
   "source": [
    "Temos 537 passageiros viajando sozinhos, e 354 acompanhados.\n",
    "\n",
    "A pergunta seguinte é: _quantos passageiros embarcaram em cada classe, em cada porto?_"
   ]
  },
  {
   "cell_type": "code",
   "execution_count": 17,
   "metadata": {},
   "outputs": [
    {
     "data": {
      "text/html": [
       "<div>\n",
       "<style scoped>\n",
       "    .dataframe tbody tr th:only-of-type {\n",
       "        vertical-align: middle;\n",
       "    }\n",
       "\n",
       "    .dataframe tbody tr th {\n",
       "        vertical-align: top;\n",
       "    }\n",
       "\n",
       "    .dataframe thead th {\n",
       "        text-align: right;\n",
       "    }\n",
       "</style>\n",
       "<table border=\"1\" class=\"dataframe\">\n",
       "  <thead>\n",
       "    <tr style=\"text-align: right;\">\n",
       "      <th></th>\n",
       "      <th></th>\n",
       "      <th>absoluto</th>\n",
       "      <th>percentual</th>\n",
       "    </tr>\n",
       "    <tr>\n",
       "      <th>porto_origem</th>\n",
       "      <th>classe</th>\n",
       "      <th></th>\n",
       "      <th></th>\n",
       "    </tr>\n",
       "  </thead>\n",
       "  <tbody>\n",
       "    <tr>\n",
       "      <th rowspan=\"3\" valign=\"top\">Cherbourg</th>\n",
       "      <th>1</th>\n",
       "      <td>85</td>\n",
       "      <td>0.505952</td>\n",
       "    </tr>\n",
       "    <tr>\n",
       "      <th>3</th>\n",
       "      <td>66</td>\n",
       "      <td>0.392857</td>\n",
       "    </tr>\n",
       "    <tr>\n",
       "      <th>2</th>\n",
       "      <td>17</td>\n",
       "      <td>0.101190</td>\n",
       "    </tr>\n",
       "    <tr>\n",
       "      <th rowspan=\"3\" valign=\"top\">Queenstown</th>\n",
       "      <th>3</th>\n",
       "      <td>72</td>\n",
       "      <td>0.935065</td>\n",
       "    </tr>\n",
       "    <tr>\n",
       "      <th>2</th>\n",
       "      <td>3</td>\n",
       "      <td>0.038961</td>\n",
       "    </tr>\n",
       "    <tr>\n",
       "      <th>1</th>\n",
       "      <td>2</td>\n",
       "      <td>0.025974</td>\n",
       "    </tr>\n",
       "    <tr>\n",
       "      <th rowspan=\"3\" valign=\"top\">Southampton</th>\n",
       "      <th>3</th>\n",
       "      <td>353</td>\n",
       "      <td>0.548137</td>\n",
       "    </tr>\n",
       "    <tr>\n",
       "      <th>2</th>\n",
       "      <td>164</td>\n",
       "      <td>0.254658</td>\n",
       "    </tr>\n",
       "    <tr>\n",
       "      <th>1</th>\n",
       "      <td>127</td>\n",
       "      <td>0.197205</td>\n",
       "    </tr>\n",
       "  </tbody>\n",
       "</table>\n",
       "</div>"
      ],
      "text/plain": [
       "                     absoluto  percentual\n",
       "porto_origem classe                      \n",
       "Cherbourg    1             85    0.505952\n",
       "             3             66    0.392857\n",
       "             2             17    0.101190\n",
       "Queenstown   3             72    0.935065\n",
       "             2              3    0.038961\n",
       "             1              2    0.025974\n",
       "Southampton  3            353    0.548137\n",
       "             2            164    0.254658\n",
       "             1            127    0.197205"
      ]
     },
     "execution_count": 17,
     "metadata": {},
     "output_type": "execute_result"
    }
   ],
   "source": [
    "abs_perc_grp(titanic, 'porto_origem', 'classe')"
   ]
  },
  {
   "cell_type": "markdown",
   "metadata": {},
   "source": [
    "Em Cherbourg, embarcaram 85 passageiros na primeira classe, 17 na segunda e 66 na terceira. Foi o porto onde mais embarcaram passageiros na primeira classe, em valores proporcionais (50,59% do total). \n",
    "\n",
    "Em Queenstown, embarcaram 2 pessoas na primeira classe, 3 na segunda e 72 na terceira. Proporcionalmente foi o porto onde mais embarcou passageiro na terceira classe; contudo, em valores absolutos, considerando as três classes, foi onde teve menos passageiros: 77 no total.\n",
    "\n",
    "Southampton foi o porto com a maior quantidade de passageiros. Na primeira classe, foram 127; na segunda, 164, na terceira, 353.\n",
    "\n",
    "A pergunta seguinte: _qual o valor médio do tíquete para cada classe?_"
   ]
  },
  {
   "cell_type": "code",
   "execution_count": 18,
   "metadata": {},
   "outputs": [
    {
     "data": {
      "text/plain": [
       "count    891.000000\n",
       "mean      32.204208\n",
       "std       49.693429\n",
       "min        0.000000\n",
       "25%        7.910400\n",
       "50%       14.454200\n",
       "75%       31.000000\n",
       "max      512.329200\n",
       "Name: valor, dtype: float64"
      ]
     },
     "execution_count": 18,
     "metadata": {},
     "output_type": "execute_result"
    }
   ],
   "source": [
    "titanic['valor'].describe()"
   ]
  },
  {
   "cell_type": "markdown",
   "metadata": {},
   "source": [
    "O valor médio do bilhete foi de 32,20 dinheiros. Contudo, o desvio-padrão está muito elevado, o que indica grande dispersão dos valores. \n",
    "\n",
    "Essa distribuição irregular pode ser observada também quando, tendo a média, buscamos a mediana, cujo valor possivelmente é bem inferior -- considerando que a concentração está nos percentis iniciais. A mediana é 14,45. Além disso, até o terceiro quartil encontramos valor abaixo da média: 31 dinheiros.\n",
    "\n",
    "Vamos ver em gráfico a distribuição:"
   ]
  },
  {
   "cell_type": "code",
   "execution_count": 19,
   "metadata": {},
   "outputs": [
    {
     "data": {
      "image/png": "[encoded data removed]",
      "text/plain": [
       "<Figure size 1080x432 with 1 Axes>"
      ]
     },
     "metadata": {},
     "output_type": "display_data"
    }
   ],
   "source": [
    "f, ax = plt.subplots(figsize = (15, 6))\n",
    "plt.title('Distribuição do valor pago no bilhete')\n",
    "sns.distplot(titanic['valor'], kde=False, rug=True, bins=50);"
   ]
  },
  {
   "cell_type": "markdown",
   "metadata": {},
   "source": [
    "Apesar do valor médio ser 32,20 dinheiros, o gráfico mostra a disparidade de valores pagos. Passageiros que pagaram entre 0 e 10 dinheiros são quase o dobro dos que pagaram entre 11 e 20. Além disso, há ainda aqueles que pagaram acima de 100, acima de 200 e acima de 500.\n",
    "\n",
    "Até o momento não respondemos à pergunta, que pede distinção por classe. Vamos à resposta:"
   ]
  },
  {
   "cell_type": "code",
   "execution_count": 20,
   "metadata": {},
   "outputs": [
    {
     "data": {
      "text/html": [
       "<div>\n",
       "<style scoped>\n",
       "    .dataframe tbody tr th:only-of-type {\n",
       "        vertical-align: middle;\n",
       "    }\n",
       "\n",
       "    .dataframe tbody tr th {\n",
       "        vertical-align: top;\n",
       "    }\n",
       "\n",
       "    .dataframe thead th {\n",
       "        text-align: right;\n",
       "    }\n",
       "</style>\n",
       "<table border=\"1\" class=\"dataframe\">\n",
       "  <thead>\n",
       "    <tr style=\"text-align: right;\">\n",
       "      <th></th>\n",
       "      <th>count</th>\n",
       "      <th>mean</th>\n",
       "      <th>std</th>\n",
       "      <th>min</th>\n",
       "      <th>25%</th>\n",
       "      <th>50%</th>\n",
       "      <th>75%</th>\n",
       "      <th>max</th>\n",
       "    </tr>\n",
       "    <tr>\n",
       "      <th>classe</th>\n",
       "      <th></th>\n",
       "      <th></th>\n",
       "      <th></th>\n",
       "      <th></th>\n",
       "      <th></th>\n",
       "      <th></th>\n",
       "      <th></th>\n",
       "      <th></th>\n",
       "    </tr>\n",
       "  </thead>\n",
       "  <tbody>\n",
       "    <tr>\n",
       "      <th>1</th>\n",
       "      <td>216.0</td>\n",
       "      <td>84.154687</td>\n",
       "      <td>78.380373</td>\n",
       "      <td>0.0</td>\n",
       "      <td>30.92395</td>\n",
       "      <td>60.2875</td>\n",
       "      <td>93.5</td>\n",
       "      <td>512.3292</td>\n",
       "    </tr>\n",
       "    <tr>\n",
       "      <th>2</th>\n",
       "      <td>184.0</td>\n",
       "      <td>20.662183</td>\n",
       "      <td>13.417399</td>\n",
       "      <td>0.0</td>\n",
       "      <td>13.00000</td>\n",
       "      <td>14.2500</td>\n",
       "      <td>26.0</td>\n",
       "      <td>73.5000</td>\n",
       "    </tr>\n",
       "    <tr>\n",
       "      <th>3</th>\n",
       "      <td>491.0</td>\n",
       "      <td>13.675550</td>\n",
       "      <td>11.778142</td>\n",
       "      <td>0.0</td>\n",
       "      <td>7.75000</td>\n",
       "      <td>8.0500</td>\n",
       "      <td>15.5</td>\n",
       "      <td>69.5500</td>\n",
       "    </tr>\n",
       "  </tbody>\n",
       "</table>\n",
       "</div>"
      ],
      "text/plain": [
       "        count       mean        std  min       25%      50%   75%       max\n",
       "classe                                                                     \n",
       "1       216.0  84.154687  78.380373  0.0  30.92395  60.2875  93.5  512.3292\n",
       "2       184.0  20.662183  13.417399  0.0  13.00000  14.2500  26.0   73.5000\n",
       "3       491.0  13.675550  11.778142  0.0   7.75000   8.0500  15.5   69.5500"
      ]
     },
     "execution_count": 20,
     "metadata": {},
     "output_type": "execute_result"
    }
   ],
   "source": [
    "titanic.groupby('classe')['valor'].describe()"
   ]
  },
  {
   "cell_type": "markdown",
   "metadata": {},
   "source": [
    "Os passageiros da primeira classe pagaram, em média, 84,15 dinheiros. Os da segunda, 20,66. Os da terceira, 13,67.\n",
    "\n",
    "As perguntas seguintes são: _qual o valor médio do tíquete em cada classe para que viajava sozinho?_ e _qual o valor médio do tíquete em cada classe para que viajava acompanhado?_"
   ]
  },
  {
   "cell_type": "code",
   "execution_count": 21,
   "metadata": {},
   "outputs": [
    {
     "data": {
      "text/plain": [
       "classe  sozinho_acompanhado\n",
       "1       Acompanhado            105.019706\n",
       "        Sozinho                 63.672514\n",
       "2       Acompanhado             29.237084\n",
       "        Sozinho                 14.066106\n",
       "3       Acompanhado             22.218864\n",
       "        Sozinho                  9.272052\n",
       "Name: valor, dtype: float64"
      ]
     },
     "execution_count": 21,
     "metadata": {},
     "output_type": "execute_result"
    }
   ],
   "source": [
    "titanic.groupby(['classe', 'sozinho_acompanhado'])['valor'].mean()"
   ]
  },
  {
   "cell_type": "markdown",
   "metadata": {},
   "source": [
    "Na primeira classe, passageiros que viajavam sozinhos pagaram, em média, 63,67 dinheiros; acompanhados, 105,01.\n",
    "\n",
    "Na segunda classe, os valores foram, respectivamente, 14,06 e 29,23.\n",
    "\n",
    "Na terceira, 9,27 e 22,21, respectivamente.\n",
    "\n",
    "A pergunta seguinte: _quem não pagou passagem?_"
   ]
  },
  {
   "cell_type": "code",
   "execution_count": 22,
   "metadata": {},
   "outputs": [
    {
     "data": {
      "text/html": [
       "<div>\n",
       "<style scoped>\n",
       "    .dataframe tbody tr th:only-of-type {\n",
       "        vertical-align: middle;\n",
       "    }\n",
       "\n",
       "    .dataframe tbody tr th {\n",
       "        vertical-align: top;\n",
       "    }\n",
       "\n",
       "    .dataframe thead th {\n",
       "        text-align: right;\n",
       "    }\n",
       "</style>\n",
       "<table border=\"1\" class=\"dataframe\">\n",
       "  <thead>\n",
       "    <tr style=\"text-align: right;\">\n",
       "      <th></th>\n",
       "      <th>id</th>\n",
       "      <th>status_sobrevivencia</th>\n",
       "      <th>classe</th>\n",
       "      <th>nome</th>\n",
       "      <th>genero</th>\n",
       "      <th>idade</th>\n",
       "      <th>conjuge_irmaos</th>\n",
       "      <th>pais_filhos</th>\n",
       "      <th>passagem</th>\n",
       "      <th>valor</th>\n",
       "      <th>cabine</th>\n",
       "      <th>porto_origem</th>\n",
       "      <th>estagio</th>\n",
       "      <th>sozinho_acompanhado</th>\n",
       "    </tr>\n",
       "  </thead>\n",
       "  <tbody>\n",
       "    <tr>\n",
       "      <th>179</th>\n",
       "      <td>180</td>\n",
       "      <td>Não</td>\n",
       "      <td>3</td>\n",
       "      <td>Leonard, Mr. Lionel</td>\n",
       "      <td>Masculino</td>\n",
       "      <td>36.0</td>\n",
       "      <td>0</td>\n",
       "      <td>0</td>\n",
       "      <td>LINE</td>\n",
       "      <td>0.0</td>\n",
       "      <td>NaN</td>\n",
       "      <td>Southampton</td>\n",
       "      <td>30 a 44 anos</td>\n",
       "      <td>Sozinho</td>\n",
       "    </tr>\n",
       "    <tr>\n",
       "      <th>263</th>\n",
       "      <td>264</td>\n",
       "      <td>Não</td>\n",
       "      <td>1</td>\n",
       "      <td>Harrison, Mr. William</td>\n",
       "      <td>Masculino</td>\n",
       "      <td>40.0</td>\n",
       "      <td>0</td>\n",
       "      <td>0</td>\n",
       "      <td>112059</td>\n",
       "      <td>0.0</td>\n",
       "      <td>B94</td>\n",
       "      <td>Southampton</td>\n",
       "      <td>30 a 44 anos</td>\n",
       "      <td>Sozinho</td>\n",
       "    </tr>\n",
       "    <tr>\n",
       "      <th>271</th>\n",
       "      <td>272</td>\n",
       "      <td>Sim</td>\n",
       "      <td>3</td>\n",
       "      <td>Tornquist, Mr. William Henry</td>\n",
       "      <td>Masculino</td>\n",
       "      <td>25.0</td>\n",
       "      <td>0</td>\n",
       "      <td>0</td>\n",
       "      <td>LINE</td>\n",
       "      <td>0.0</td>\n",
       "      <td>NaN</td>\n",
       "      <td>Southampton</td>\n",
       "      <td>18 a 29 anos</td>\n",
       "      <td>Sozinho</td>\n",
       "    </tr>\n",
       "    <tr>\n",
       "      <th>277</th>\n",
       "      <td>278</td>\n",
       "      <td>Não</td>\n",
       "      <td>2</td>\n",
       "      <td>Parkes, Mr. Francis \"Frank\"</td>\n",
       "      <td>Masculino</td>\n",
       "      <td>NaN</td>\n",
       "      <td>0</td>\n",
       "      <td>0</td>\n",
       "      <td>239853</td>\n",
       "      <td>0.0</td>\n",
       "      <td>NaN</td>\n",
       "      <td>Southampton</td>\n",
       "      <td>Não informado</td>\n",
       "      <td>Sozinho</td>\n",
       "    </tr>\n",
       "    <tr>\n",
       "      <th>302</th>\n",
       "      <td>303</td>\n",
       "      <td>Não</td>\n",
       "      <td>3</td>\n",
       "      <td>Johnson, Mr. William Cahoone Jr</td>\n",
       "      <td>Masculino</td>\n",
       "      <td>19.0</td>\n",
       "      <td>0</td>\n",
       "      <td>0</td>\n",
       "      <td>LINE</td>\n",
       "      <td>0.0</td>\n",
       "      <td>NaN</td>\n",
       "      <td>Southampton</td>\n",
       "      <td>18 a 29 anos</td>\n",
       "      <td>Sozinho</td>\n",
       "    </tr>\n",
       "    <tr>\n",
       "      <th>413</th>\n",
       "      <td>414</td>\n",
       "      <td>Não</td>\n",
       "      <td>2</td>\n",
       "      <td>Cunningham, Mr. Alfred Fleming</td>\n",
       "      <td>Masculino</td>\n",
       "      <td>NaN</td>\n",
       "      <td>0</td>\n",
       "      <td>0</td>\n",
       "      <td>239853</td>\n",
       "      <td>0.0</td>\n",
       "      <td>NaN</td>\n",
       "      <td>Southampton</td>\n",
       "      <td>Não informado</td>\n",
       "      <td>Sozinho</td>\n",
       "    </tr>\n",
       "    <tr>\n",
       "      <th>466</th>\n",
       "      <td>467</td>\n",
       "      <td>Não</td>\n",
       "      <td>2</td>\n",
       "      <td>Campbell, Mr. William</td>\n",
       "      <td>Masculino</td>\n",
       "      <td>NaN</td>\n",
       "      <td>0</td>\n",
       "      <td>0</td>\n",
       "      <td>239853</td>\n",
       "      <td>0.0</td>\n",
       "      <td>NaN</td>\n",
       "      <td>Southampton</td>\n",
       "      <td>Não informado</td>\n",
       "      <td>Sozinho</td>\n",
       "    </tr>\n",
       "    <tr>\n",
       "      <th>481</th>\n",
       "      <td>482</td>\n",
       "      <td>Não</td>\n",
       "      <td>2</td>\n",
       "      <td>Frost, Mr. Anthony Wood \"Archie\"</td>\n",
       "      <td>Masculino</td>\n",
       "      <td>NaN</td>\n",
       "      <td>0</td>\n",
       "      <td>0</td>\n",
       "      <td>239854</td>\n",
       "      <td>0.0</td>\n",
       "      <td>NaN</td>\n",
       "      <td>Southampton</td>\n",
       "      <td>Não informado</td>\n",
       "      <td>Sozinho</td>\n",
       "    </tr>\n",
       "    <tr>\n",
       "      <th>597</th>\n",
       "      <td>598</td>\n",
       "      <td>Não</td>\n",
       "      <td>3</td>\n",
       "      <td>Johnson, Mr. Alfred</td>\n",
       "      <td>Masculino</td>\n",
       "      <td>49.0</td>\n",
       "      <td>0</td>\n",
       "      <td>0</td>\n",
       "      <td>LINE</td>\n",
       "      <td>0.0</td>\n",
       "      <td>NaN</td>\n",
       "      <td>Southampton</td>\n",
       "      <td>45 a 59 anos</td>\n",
       "      <td>Sozinho</td>\n",
       "    </tr>\n",
       "    <tr>\n",
       "      <th>633</th>\n",
       "      <td>634</td>\n",
       "      <td>Não</td>\n",
       "      <td>1</td>\n",
       "      <td>Parr, Mr. William Henry Marsh</td>\n",
       "      <td>Masculino</td>\n",
       "      <td>NaN</td>\n",
       "      <td>0</td>\n",
       "      <td>0</td>\n",
       "      <td>112052</td>\n",
       "      <td>0.0</td>\n",
       "      <td>NaN</td>\n",
       "      <td>Southampton</td>\n",
       "      <td>Não informado</td>\n",
       "      <td>Sozinho</td>\n",
       "    </tr>\n",
       "    <tr>\n",
       "      <th>674</th>\n",
       "      <td>675</td>\n",
       "      <td>Não</td>\n",
       "      <td>2</td>\n",
       "      <td>Watson, Mr. Ennis Hastings</td>\n",
       "      <td>Masculino</td>\n",
       "      <td>NaN</td>\n",
       "      <td>0</td>\n",
       "      <td>0</td>\n",
       "      <td>239856</td>\n",
       "      <td>0.0</td>\n",
       "      <td>NaN</td>\n",
       "      <td>Southampton</td>\n",
       "      <td>Não informado</td>\n",
       "      <td>Sozinho</td>\n",
       "    </tr>\n",
       "    <tr>\n",
       "      <th>732</th>\n",
       "      <td>733</td>\n",
       "      <td>Não</td>\n",
       "      <td>2</td>\n",
       "      <td>Knight, Mr. Robert J</td>\n",
       "      <td>Masculino</td>\n",
       "      <td>NaN</td>\n",
       "      <td>0</td>\n",
       "      <td>0</td>\n",
       "      <td>239855</td>\n",
       "      <td>0.0</td>\n",
       "      <td>NaN</td>\n",
       "      <td>Southampton</td>\n",
       "      <td>Não informado</td>\n",
       "      <td>Sozinho</td>\n",
       "    </tr>\n",
       "    <tr>\n",
       "      <th>806</th>\n",
       "      <td>807</td>\n",
       "      <td>Não</td>\n",
       "      <td>1</td>\n",
       "      <td>Andrews, Mr. Thomas Jr</td>\n",
       "      <td>Masculino</td>\n",
       "      <td>39.0</td>\n",
       "      <td>0</td>\n",
       "      <td>0</td>\n",
       "      <td>112050</td>\n",
       "      <td>0.0</td>\n",
       "      <td>A36</td>\n",
       "      <td>Southampton</td>\n",
       "      <td>30 a 44 anos</td>\n",
       "      <td>Sozinho</td>\n",
       "    </tr>\n",
       "    <tr>\n",
       "      <th>815</th>\n",
       "      <td>816</td>\n",
       "      <td>Não</td>\n",
       "      <td>1</td>\n",
       "      <td>Fry, Mr. Richard</td>\n",
       "      <td>Masculino</td>\n",
       "      <td>NaN</td>\n",
       "      <td>0</td>\n",
       "      <td>0</td>\n",
       "      <td>112058</td>\n",
       "      <td>0.0</td>\n",
       "      <td>B102</td>\n",
       "      <td>Southampton</td>\n",
       "      <td>Não informado</td>\n",
       "      <td>Sozinho</td>\n",
       "    </tr>\n",
       "    <tr>\n",
       "      <th>822</th>\n",
       "      <td>823</td>\n",
       "      <td>Não</td>\n",
       "      <td>1</td>\n",
       "      <td>Reuchlin, Jonkheer. John George</td>\n",
       "      <td>Masculino</td>\n",
       "      <td>38.0</td>\n",
       "      <td>0</td>\n",
       "      <td>0</td>\n",
       "      <td>19972</td>\n",
       "      <td>0.0</td>\n",
       "      <td>NaN</td>\n",
       "      <td>Southampton</td>\n",
       "      <td>30 a 44 anos</td>\n",
       "      <td>Sozinho</td>\n",
       "    </tr>\n",
       "  </tbody>\n",
       "</table>\n",
       "</div>"
      ],
      "text/plain": [
       "      id status_sobrevivencia  classe                              nome  \\\n",
       "179  180                  Não       3               Leonard, Mr. Lionel   \n",
       "263  264                  Não       1             Harrison, Mr. William   \n",
       "271  272                  Sim       3      Tornquist, Mr. William Henry   \n",
       "277  278                  Não       2       Parkes, Mr. Francis \"Frank\"   \n",
       "302  303                  Não       3   Johnson, Mr. William Cahoone Jr   \n",
       "413  414                  Não       2    Cunningham, Mr. Alfred Fleming   \n",
       "466  467                  Não       2             Campbell, Mr. William   \n",
       "481  482                  Não       2  Frost, Mr. Anthony Wood \"Archie\"   \n",
       "597  598                  Não       3               Johnson, Mr. Alfred   \n",
       "633  634                  Não       1     Parr, Mr. William Henry Marsh   \n",
       "674  675                  Não       2        Watson, Mr. Ennis Hastings   \n",
       "732  733                  Não       2              Knight, Mr. Robert J   \n",
       "806  807                  Não       1            Andrews, Mr. Thomas Jr   \n",
       "815  816                  Não       1                  Fry, Mr. Richard   \n",
       "822  823                  Não       1   Reuchlin, Jonkheer. John George   \n",
       "\n",
       "        genero  idade  conjuge_irmaos  pais_filhos passagem  valor cabine  \\\n",
       "179  Masculino   36.0               0            0     LINE    0.0    NaN   \n",
       "263  Masculino   40.0               0            0   112059    0.0    B94   \n",
       "271  Masculino   25.0               0            0     LINE    0.0    NaN   \n",
       "277  Masculino    NaN               0            0   239853    0.0    NaN   \n",
       "302  Masculino   19.0               0            0     LINE    0.0    NaN   \n",
       "413  Masculino    NaN               0            0   239853    0.0    NaN   \n",
       "466  Masculino    NaN               0            0   239853    0.0    NaN   \n",
       "481  Masculino    NaN               0            0   239854    0.0    NaN   \n",
       "597  Masculino   49.0               0            0     LINE    0.0    NaN   \n",
       "633  Masculino    NaN               0            0   112052    0.0    NaN   \n",
       "674  Masculino    NaN               0            0   239856    0.0    NaN   \n",
       "732  Masculino    NaN               0            0   239855    0.0    NaN   \n",
       "806  Masculino   39.0               0            0   112050    0.0    A36   \n",
       "815  Masculino    NaN               0            0   112058    0.0   B102   \n",
       "822  Masculino   38.0               0            0    19972    0.0    NaN   \n",
       "\n",
       "    porto_origem        estagio sozinho_acompanhado  \n",
       "179  Southampton   30 a 44 anos             Sozinho  \n",
       "263  Southampton   30 a 44 anos             Sozinho  \n",
       "271  Southampton   18 a 29 anos             Sozinho  \n",
       "277  Southampton  Não informado             Sozinho  \n",
       "302  Southampton   18 a 29 anos             Sozinho  \n",
       "413  Southampton  Não informado             Sozinho  \n",
       "466  Southampton  Não informado             Sozinho  \n",
       "481  Southampton  Não informado             Sozinho  \n",
       "597  Southampton   45 a 59 anos             Sozinho  \n",
       "633  Southampton  Não informado             Sozinho  \n",
       "674  Southampton  Não informado             Sozinho  \n",
       "732  Southampton  Não informado             Sozinho  \n",
       "806  Southampton   30 a 44 anos             Sozinho  \n",
       "815  Southampton  Não informado             Sozinho  \n",
       "822  Southampton   30 a 44 anos             Sozinho  "
      ]
     },
     "execution_count": 22,
     "metadata": {},
     "output_type": "execute_result"
    }
   ],
   "source": [
    "titanic[titanic['valor'] == 0]"
   ]
  },
  {
   "cell_type": "markdown",
   "metadata": {},
   "source": [
    "Temos 15 pessoas que não pagaram passagem. Todos os passageiros que viajaram de graça eram homens, sozinhos, e embarcaram em Southampton.\n",
    "\n",
    "A pergunta seguinte é: _qual a idade média das vítimas do naufrágio?_"
   ]
  },
  {
   "cell_type": "code",
   "execution_count": 23,
   "metadata": {},
   "outputs": [
    {
     "data": {
      "text/plain": [
       "30.62617924528302"
      ]
     },
     "execution_count": 23,
     "metadata": {},
     "output_type": "execute_result"
    }
   ],
   "source": [
    "titanic.query('status_sobrevivencia == \"Não\"')['idade'].mean()"
   ]
  },
  {
   "cell_type": "markdown",
   "metadata": {},
   "source": [
    "As vítimas do naufrágio tinham, em média, 30 anos e meio. Vamos ver a média de idade dos sobreviventes:"
   ]
  },
  {
   "cell_type": "code",
   "execution_count": 24,
   "metadata": {},
   "outputs": [
    {
     "data": {
      "text/plain": [
       "28.343689655172415"
      ]
     },
     "execution_count": 24,
     "metadata": {},
     "output_type": "execute_result"
    }
   ],
   "source": [
    "titanic.query('status_sobrevivencia != \"Não\"')['idade'].mean()"
   ]
  },
  {
   "cell_type": "markdown",
   "metadata": {},
   "source": [
    "A pergunta seguinte é: _qual a idade do sobrevivente mais novo?_"
   ]
  },
  {
   "cell_type": "code",
   "execution_count": 25,
   "metadata": {},
   "outputs": [
    {
     "data": {
      "text/plain": [
       "0.42"
      ]
     },
     "execution_count": 25,
     "metadata": {},
     "output_type": "execute_result"
    }
   ],
   "source": [
    "titanic.query('status_sobrevivencia != \"Não\"')['idade'].min()"
   ]
  },
  {
   "cell_type": "markdown",
   "metadata": {},
   "source": [
    "O sobrevivente mais novo tinha menos de 6 meses. Vamos ver quem é:"
   ]
  },
  {
   "cell_type": "code",
   "execution_count": 26,
   "metadata": {},
   "outputs": [
    {
     "data": {
      "text/html": [
       "<div>\n",
       "<style scoped>\n",
       "    .dataframe tbody tr th:only-of-type {\n",
       "        vertical-align: middle;\n",
       "    }\n",
       "\n",
       "    .dataframe tbody tr th {\n",
       "        vertical-align: top;\n",
       "    }\n",
       "\n",
       "    .dataframe thead th {\n",
       "        text-align: right;\n",
       "    }\n",
       "</style>\n",
       "<table border=\"1\" class=\"dataframe\">\n",
       "  <thead>\n",
       "    <tr style=\"text-align: right;\">\n",
       "      <th></th>\n",
       "      <th>id</th>\n",
       "      <th>status_sobrevivencia</th>\n",
       "      <th>classe</th>\n",
       "      <th>nome</th>\n",
       "      <th>genero</th>\n",
       "      <th>idade</th>\n",
       "      <th>conjuge_irmaos</th>\n",
       "      <th>pais_filhos</th>\n",
       "      <th>passagem</th>\n",
       "      <th>valor</th>\n",
       "      <th>cabine</th>\n",
       "      <th>porto_origem</th>\n",
       "      <th>estagio</th>\n",
       "      <th>sozinho_acompanhado</th>\n",
       "    </tr>\n",
       "  </thead>\n",
       "  <tbody>\n",
       "    <tr>\n",
       "      <th>803</th>\n",
       "      <td>804</td>\n",
       "      <td>Sim</td>\n",
       "      <td>3</td>\n",
       "      <td>Thomas, Master. Assad Alexander</td>\n",
       "      <td>Masculino</td>\n",
       "      <td>0.42</td>\n",
       "      <td>0</td>\n",
       "      <td>1</td>\n",
       "      <td>2625</td>\n",
       "      <td>8.5167</td>\n",
       "      <td>NaN</td>\n",
       "      <td>Cherbourg</td>\n",
       "      <td>Menos de 12 anos</td>\n",
       "      <td>Acompanhado</td>\n",
       "    </tr>\n",
       "  </tbody>\n",
       "</table>\n",
       "</div>"
      ],
      "text/plain": [
       "      id status_sobrevivencia  classe                             nome  \\\n",
       "803  804                  Sim       3  Thomas, Master. Assad Alexander   \n",
       "\n",
       "        genero  idade  conjuge_irmaos  pais_filhos passagem   valor cabine  \\\n",
       "803  Masculino   0.42               0            1     2625  8.5167    NaN   \n",
       "\n",
       "    porto_origem           estagio sozinho_acompanhado  \n",
       "803    Cherbourg  Menos de 12 anos         Acompanhado  "
      ]
     },
     "execution_count": 26,
     "metadata": {},
     "output_type": "execute_result"
    }
   ],
   "source": [
    "titanic[titanic['idade'] == 0.42]"
   ]
  },
  {
   "cell_type": "markdown",
   "metadata": {},
   "source": [
    "A pergunta seguinte é: _os sobreviventes são de que gênero, em valores absolutos e em proporção?_"
   ]
  },
  {
   "cell_type": "code",
   "execution_count": 27,
   "metadata": {},
   "outputs": [
    {
     "data": {
      "text/html": [
       "<div>\n",
       "<style scoped>\n",
       "    .dataframe tbody tr th:only-of-type {\n",
       "        vertical-align: middle;\n",
       "    }\n",
       "\n",
       "    .dataframe tbody tr th {\n",
       "        vertical-align: top;\n",
       "    }\n",
       "\n",
       "    .dataframe thead th {\n",
       "        text-align: right;\n",
       "    }\n",
       "</style>\n",
       "<table border=\"1\" class=\"dataframe\">\n",
       "  <thead>\n",
       "    <tr style=\"text-align: right;\">\n",
       "      <th></th>\n",
       "      <th></th>\n",
       "      <th>absoluto</th>\n",
       "      <th>percentual</th>\n",
       "    </tr>\n",
       "    <tr>\n",
       "      <th>genero</th>\n",
       "      <th>status_sobrevivencia</th>\n",
       "      <th></th>\n",
       "      <th></th>\n",
       "    </tr>\n",
       "  </thead>\n",
       "  <tbody>\n",
       "    <tr>\n",
       "      <th rowspan=\"2\" valign=\"top\">Feminino</th>\n",
       "      <th>Sim</th>\n",
       "      <td>233</td>\n",
       "      <td>0.742038</td>\n",
       "    </tr>\n",
       "    <tr>\n",
       "      <th>Não</th>\n",
       "      <td>81</td>\n",
       "      <td>0.257962</td>\n",
       "    </tr>\n",
       "    <tr>\n",
       "      <th rowspan=\"2\" valign=\"top\">Masculino</th>\n",
       "      <th>Não</th>\n",
       "      <td>468</td>\n",
       "      <td>0.811092</td>\n",
       "    </tr>\n",
       "    <tr>\n",
       "      <th>Sim</th>\n",
       "      <td>109</td>\n",
       "      <td>0.188908</td>\n",
       "    </tr>\n",
       "  </tbody>\n",
       "</table>\n",
       "</div>"
      ],
      "text/plain": [
       "                                absoluto  percentual\n",
       "genero    status_sobrevivencia                      \n",
       "Feminino  Sim                        233    0.742038\n",
       "          Não                         81    0.257962\n",
       "Masculino Não                        468    0.811092\n",
       "          Sim                        109    0.188908"
      ]
     },
     "execution_count": 27,
     "metadata": {},
     "output_type": "execute_result"
    }
   ],
   "source": [
    "abs_perc_grp(titanic, 'genero', 'status_sobrevivencia')"
   ]
  },
  {
   "cell_type": "markdown",
   "metadata": {},
   "source": [
    "Das 314 mulheres, 233 sobreviveram -- ou seja, 74,2% do total de passageiros do sexo feminino.\n",
    "\n",
    "Quanto aos homens, temos 577 sujeitos, dos quais 109 sobreviveram -- 18,9% do total do gênero masculino.\n",
    "\n",
    "Vamos ver em gráfico:"
   ]
  },
  {
   "cell_type": "code",
   "execution_count": 28,
   "metadata": {},
   "outputs": [
    {
     "data": {
      "image/png": "[encoded data removed]",
      "text/plain": [
       "<Figure size 1080x432 with 1 Axes>"
      ]
     },
     "metadata": {},
     "output_type": "display_data"
    }
   ],
   "source": [
    "titanic['total_genero'] = titanic.groupby(['genero'])['genero'].transform('count') # Esta coluna é só para ser usada no gráfico\n",
    "genero_sobrev = titanic.groupby(['genero', 'total_genero'])['status_sobrevivencia'].value_counts()\n",
    "genero_sobrev = pd.DataFrame(genero_sobrev).rename(columns = {'status_sobrevivencia': 'quantidade'}).reset_index()\n",
    "genero_sobrev_sim = genero_sobrev[genero_sobrev['status_sobrevivencia'] == 'Sim']\n",
    "f, ax = plt.subplots(figsize = (15, 6))\n",
    "sns.set_color_codes('pastel')\n",
    "sns.barplot(x = 'total_genero',\n",
    "            y = 'genero', \n",
    "            data = genero_sobrev_sim,\n",
    "            label = 'Não sobreviventes', \n",
    "            color = 'r', \n",
    "            ci = None)\n",
    "sns.set_color_codes('muted')\n",
    "sns.barplot(x = 'quantidade', \n",
    "            y = 'genero', \n",
    "            data = genero_sobrev_sim,\n",
    "            label = 'Sobreviventes', \n",
    "            color = 'r', \n",
    "            ci = None)\n",
    "ax.legend(ncol = 2, \n",
    "          loc = 'upper right', \n",
    "          frameon = True)\n",
    "ax.set(xlim = (0, 600), \n",
    "       ylabel = '',\n",
    "       xlabel = '');"
   ]
  },
  {
   "cell_type": "markdown",
   "metadata": {},
   "source": [
    "A pergunta final: _qual a porcentagem de sobreviventes em cada classe do navio?_"
   ]
  },
  {
   "cell_type": "code",
   "execution_count": 29,
   "metadata": {},
   "outputs": [
    {
     "data": {
      "text/html": [
       "<div>\n",
       "<style scoped>\n",
       "    .dataframe tbody tr th:only-of-type {\n",
       "        vertical-align: middle;\n",
       "    }\n",
       "\n",
       "    .dataframe tbody tr th {\n",
       "        vertical-align: top;\n",
       "    }\n",
       "\n",
       "    .dataframe thead th {\n",
       "        text-align: right;\n",
       "    }\n",
       "</style>\n",
       "<table border=\"1\" class=\"dataframe\">\n",
       "  <thead>\n",
       "    <tr style=\"text-align: right;\">\n",
       "      <th></th>\n",
       "      <th></th>\n",
       "      <th>absoluto</th>\n",
       "      <th>percentual</th>\n",
       "    </tr>\n",
       "    <tr>\n",
       "      <th>classe</th>\n",
       "      <th>status_sobrevivencia</th>\n",
       "      <th></th>\n",
       "      <th></th>\n",
       "    </tr>\n",
       "  </thead>\n",
       "  <tbody>\n",
       "    <tr>\n",
       "      <th rowspan=\"2\" valign=\"top\">1</th>\n",
       "      <th>Sim</th>\n",
       "      <td>136</td>\n",
       "      <td>0.629630</td>\n",
       "    </tr>\n",
       "    <tr>\n",
       "      <th>Não</th>\n",
       "      <td>80</td>\n",
       "      <td>0.370370</td>\n",
       "    </tr>\n",
       "    <tr>\n",
       "      <th rowspan=\"2\" valign=\"top\">2</th>\n",
       "      <th>Não</th>\n",
       "      <td>97</td>\n",
       "      <td>0.527174</td>\n",
       "    </tr>\n",
       "    <tr>\n",
       "      <th>Sim</th>\n",
       "      <td>87</td>\n",
       "      <td>0.472826</td>\n",
       "    </tr>\n",
       "    <tr>\n",
       "      <th rowspan=\"2\" valign=\"top\">3</th>\n",
       "      <th>Não</th>\n",
       "      <td>372</td>\n",
       "      <td>0.757637</td>\n",
       "    </tr>\n",
       "    <tr>\n",
       "      <th>Sim</th>\n",
       "      <td>119</td>\n",
       "      <td>0.242363</td>\n",
       "    </tr>\n",
       "  </tbody>\n",
       "</table>\n",
       "</div>"
      ],
      "text/plain": [
       "                             absoluto  percentual\n",
       "classe status_sobrevivencia                      \n",
       "1      Sim                        136    0.629630\n",
       "       Não                         80    0.370370\n",
       "2      Não                         97    0.527174\n",
       "       Sim                         87    0.472826\n",
       "3      Não                        372    0.757637\n",
       "       Sim                        119    0.242363"
      ]
     },
     "execution_count": 29,
     "metadata": {},
     "output_type": "execute_result"
    }
   ],
   "source": [
    "abs_perc_grp(titanic, 'classe', 'status_sobrevivencia')"
   ]
  },
  {
   "cell_type": "markdown",
   "metadata": {},
   "source": [
    "Notadamente há maior proporção de sobreviventes da primeira classe do que na segunda e na terceira. \n",
    "\n",
    "Temos:\n",
    "\n",
    "- 62,96% dos passageiros da primeira classe sobreviveram;\n",
    "- 47,28% dos da segunda classe;\n",
    "- 24,23% dos da terceira classe."
   ]
  },
  {
   "cell_type": "markdown",
   "metadata": {},
   "source": [
    "### Conclusão\n",
    "\n",
    "---\n",
    "\n",
    "A análise indica que, dos 891 passageiros, 577 eram homens (64,75%) e 314 eram mulheres (35,24%). Eles estavam divididos da seguinte forma, em relação à classe ocupada:\n",
    "\n",
    "- primeira classe: 122 homens (56,48%) e 94 mulheres (43,51%)\n",
    "- segunda classe: 108 homens (58,69%) e 76 mulheres (41,30%)\n",
    "- terceira classe: 347 homens (70,67%) e 144 mulheres (29,32%)\n",
    "\n",
    "Quanto à faixa etária, os passageiros se dividem da seguinte maneira:\n",
    "\n",
    "- 68 crianças, sendo 36 meninos e 32 meninas\n",
    "- 45 adolescentes, sendo 22 garotos e 23 garotas\n",
    "- 271 jovens adultos, sendo 179 homens e 92 mulheres\n",
    "- 215 adultos até 44 anos, sendo 137 homens e 78 mulheres\n",
    "- 89 adultos de 45 a 59 anos, sendo 57 homens e 32 mulheres\n",
    "- 26 idosos, sendo 22 homens e 4 mulheres\n",
    "- 177 sem idade informada, sendo 124 homens e 53 mulheres\n",
    "\n",
    "Desses 891 passageiros, 537 viajavam sozinhos e 354 estavam acompanhados. Eles embarcaram em três portos: Cherbourg, Queenstown e Southampton.\n",
    "\n",
    "Em Cherbourg, embarcaram 85 passageiros na primeira classe, 17 na segunda e 66 na terceira. Foi o porto onde mais embarcaram passageiros na primeira classe, em valores proporcionais (50,59% do total). \n",
    "\n",
    "Em Queenstown, embarcaram 2 pessoas na primeira classe, 3 na segunda e 72 na terceira. Proporcionalmente foi o porto onde mais embarcou passageiro na terceira classe; contudo, em valores absolutos, considerando as três classes, foi onde teve menos passageiros: 77 no total.\n",
    "\n",
    "Southampton foi o porto com a maior quantidade de passageiros. Na primeira classe, foram 127; na segunda, 164, na terceira, 353.\n",
    "\n",
    "Eles pagaram, em média, 32,20 dinheiros pela viagem. O valor varia por classe: os passageiros da primeira classe desembolsaram, em média, 84,15 dinheiros. Os da segunda, 20,66. Os da terceira, 13,67.\n",
    "\n",
    "Entretanto, 15 passageiros não pagaram o bilhete. Todos eram homens, viajavam sozinhos e embarcaram em Southampton.\n",
    "\n",
    "Southampton também foi o porto onde o passageiro mais novo do Titanic embarcou. Com menos de 6 meses de vida,  Mr. Thomas estava acompanhado de um de seus pais na terceira classe. Sua passagem custou 8,5 dinheiros. \n",
    "\n",
    "O infante Mr. Thomas sobreviveu ao acidente. Também sobreviveu ao desastre o mais idoso dos passageiros, Mr. Barkworth, que tinha 80 anos. Ele ocupava a cabine A23, pela qual pagou 30 dinheiros, e viajava sozinho.\n",
    "\n",
    "Mr. Thomas e Mr. Barkworth contrariaram a tendência: os homens foram as maiores vítimas do desastre. Dos 577 passageiros do sexo masculino, apenas 109 sobreviveram -- 18,9% do total de homens a bordo.\n",
    "\n",
    "Entre as mulheres, 233 das 314 sobreviveram -- 74,2% do total de passageiras.\n",
    "\n",
    "Quanto à classe, é possível observar que a maioria dos passageiros da terceira classe não sobreviveram:\n",
    "\n",
    "- 62,96% dos passageiros da primeira classe sobreviveram\n",
    "- 47,28% dos da segunda classe\n",
    "- 24,23% dos da terceira classe"
   ]
  },
  {
   "cell_type": "markdown",
   "metadata": {},
   "source": [
    "---\n",
    "**Leituras**\n",
    "\n",
    "`pd.set_option`: [Options and settings](https://pandas.pydata.org/pandas-docs/stable/options.html), na documentação do Pandas<br>\n",
    "`sns.set`: [seaborn.set](https://seaborn.pydata.org/generated/seaborn.set.html), na documentação do Seaborn<br>\n",
    "`pd.series.map`: [Remap values in pandas column with a dict](https://stackoverflow.com/a/41678874), no Stack Overflow; [Pandas series map](https://pandas.pydata.org/pandas-docs/stable/generated/pandas.Series.map.html), na documentação do Pandas<br>\n",
    "`pd.dataframe.pivot_table`: [Pandas dataframe pivot_table](https://pandas.pydata.org/pandas-docs/stable/generated/pandas.DataFrame.pivot_table.html), na documentação do Pandas"
   ]
  }
 ],
 "metadata": {
  "kernelspec": {
   "display_name": "Python 3",
   "language": "python",
   "name": "python3"
  },
  "language_info": {
   "codemirror_mode": {
    "name": "ipython",
    "version": 3
   },
   "file_extension": ".py",
   "mimetype": "text/x-python",
   "name": "python",
   "nbconvert_exporter": "python",
   "pygments_lexer": "ipython3",
   "version": "3.6.5"
  }
 },
 "nbformat": 4,
 "nbformat_minor": 2
}
