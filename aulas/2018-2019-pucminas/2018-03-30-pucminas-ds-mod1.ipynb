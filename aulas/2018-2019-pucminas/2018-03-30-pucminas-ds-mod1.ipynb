{
 "cells": [
  {
   "cell_type": "markdown",
   "metadata": {},
   "source": [
    "# Anotações de aula\n",
    "\n",
    "**Instituição:** PUC-Minas<br>\n",
    "**Curso:** Pós-graduação em ciência de dados e big data<br>\n",
    "**Módulo:** Ciência de dados e big bata em negócios<br>\n",
    "**Data:** 30 de março de 2018"
   ]
  },
  {
   "cell_type": "markdown",
   "metadata": {},
   "source": [
    "---\n",
    "### Unidade 1 - Introdução à Ciência dos Dados e Big Data\n",
    "\n",
    "**Dado:** sequência de símbolos quantificados ou quantificáveis (ex.: um texto, uma foto, um som)<br>\n",
    "> Mesmo se incompreensível para o leitor, qualquer texto constitui um dado ou uma sequência de dados. Os dados podem ser totalmente descritos através de representações formais, estruturais. Sendo ainda quantificados ou quantificáveis, eles podem obviamente ser armazenados em um computador e processados por ele. **O processamento de dados em um computador limita-se exclusivamente a manipulações estruturais dos mesmos**, e é feito por meio de programas. Exemplos dessas manipulações nos casos de textos são a formatação, a ordenação, a comparação com outros textos, estatísticas de palavras empregadas e seu entorno, etc.\n",
    "\n",
    "**Informação:** abstração informal que está na mente de alguém, representando algo significativo para essa pessoa<br>\n",
    "> A frase \"Paris é uma cidade fascinante\" é um exemplo de informação, desde que seja lida ou ouvida por alguém; desde que \"Paris\" signifique para essa pessoa a capital da França e \"fascinante\" tenha a qualidade usual e intuitiva associada com essa palavra. Se a representação da informação for feita por meio de dados, como na frase sobre Paris, pode ser armazenada em um computador. Mas, atenção: **o que é armazenado na máquina não é a informação, mas a sua representação em forma de dados**.\n",
    "\n",
    "**Conhecimento:** refere-se a uma abstração interior, pessoal, de algo que foi experimentado, vivenciado por alguém<br>\n",
    "> Alguém tem algum conhecimento de Paris somente se a visitou. Nesse sentido, **o conhecimento não pode ser descrito; o que se descreve é a informação**. Também não depende apenas de uma interpretação pessoal, como a informação, pois requer uma vivência do objeto do conhecimento. Assim, o conhecimento está no âmbito puramente subjetivo do homem. **A informação pode ser inserida em um computador por meio de uma representação em forma de dados. Como o conhecimento não é sujeito a representações, não pode ser inserido em um computador**. Assim, neste sentido, é absolutamente equivocado falar-se de uma \"base de conhecimento\" em um computador. O que se tem é, de fato, é uma tradicional \"base (ou banco) de dados\".\n",
    "\n",
    "_Adaptado de Setzer, V.W. Os Meios Eletrônicos e a Educação: Uma Visão alternativa. São Paulo: Editora Escrituras, Coleção Ensaios Transversais Vol. 10, 2001_\n"
   ]
  },
  {
   "cell_type": "markdown",
   "metadata": {},
   "source": [
    "#### Histórico dos termos\n",
    "\n",
    "- **Business intelligence:** aparece nos anos 1990. Refere-se a um conjunto de ferramentas e tecnologias para extração de dados a fim de orientar tomada de decisões. Tende a responder _\"o que aconteceu?\"_ para pautar ações. Aqui é dada ênfase na análise descritiva.\n",
    "\n",
    "- **Business analytics:** aparece nos anos 2000. Não é uma tecnologia, mas um grupo de abordagens e procedimentos usados em conjunto para se obter informações e prever resultados de soluções de problemas. Tende a responder _\"o que vai acontecer?\"_ com base nas respostas à pergunta _\"o que aconteceu?\"_. Aqui é dada ênfase na análise estatística.\n",
    "\n",
    "- **Big data:** começa a ganhar força por volta de 2007. Novas tecnologias para extração de dados e previsão de resultados, aplicadas a grandes volumes de dados que requerem análises em tempo real e são gerados por múltiplas fontes."
   ]
  },
  {
   "cell_type": "markdown",
   "metadata": {},
   "source": [
    "#### Orientações de análises\n",
    "\n",
    "- **Descritiva:** descreve e sumariza eventos ocorridos no passado ou que estão acontecendo no presente. Analistas condensam quantidades significativas de dados em informação útil. _Características: relatórios, scorecards etc._.\n",
    "\n",
    "- **Preditiva:** permite responder perguntas do tipo \"o que acontecerá?\" e \"por que acontecerá?\". Engloba um grupo de métodos que usa estatísticas e outras técnicas empíricas para estudar dados recentes e históricos, permitindo que os analistas prevejam eventos futuros baseados em ocorrências passadas. _Características: data mining, regressão, similação etc._.\n",
    "\n",
    "- **Prescritiva:** permite responder perguntas do tipo \"o que devemos fazer?\". Requer algoritmos de simulação e otimização para analisar e transformar os dados em ações recomendadas. _Características: árvores de decisões, programação matemática, heurística etc._."
   ]
  }
 ],
 "metadata": {
  "kernelspec": {
   "display_name": "Python 3",
   "language": "python",
   "name": "python3"
  },
  "language_info": {
   "codemirror_mode": {
    "name": "ipython",
    "version": 3
   },
   "file_extension": ".py",
   "mimetype": "text/x-python",
   "name": "python",
   "nbconvert_exporter": "python",
   "pygments_lexer": "ipython3",
   "version": "3.6.4"
  }
 },
 "nbformat": 4,
 "nbformat_minor": 2
}
