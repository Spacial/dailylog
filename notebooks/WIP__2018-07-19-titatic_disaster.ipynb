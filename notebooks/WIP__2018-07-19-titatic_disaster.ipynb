{
 "cells": [
  {
   "cell_type": "code",
   "execution_count": 34,
   "metadata": {},
   "outputs": [],
   "source": [
    "train <- read.csv(\"data/train.csv\", header = TRUE)\n",
    "test <- read.csv(\"data/test.csv\", header = TRUE)"
   ]
  },
  {
   "cell_type": "code",
   "execution_count": 35,
   "metadata": {},
   "outputs": [],
   "source": [
    "test.survived <- data.frame(Survived = rep(\"None\", nrow(test)), test[,])"
   ]
  },
  {
   "cell_type": "code",
   "execution_count": 36,
   "metadata": {},
   "outputs": [],
   "source": [
    "data.combined <- rbind(train, test.survived)"
   ]
  },
  {
   "cell_type": "code",
   "execution_count": 37,
   "metadata": {},
   "outputs": [
    {
     "name": "stdout",
     "output_type": "stream",
     "text": [
      "'data.frame':\t1309 obs. of  12 variables:\n",
      " $ PassengerId: int  1 2 3 4 5 6 7 8 9 10 ...\n",
      " $ Survived   : chr  \"0\" \"1\" \"1\" \"1\" ...\n",
      " $ Pclass     : int  3 1 3 1 3 3 1 3 3 2 ...\n",
      " $ Name       : Factor w/ 1307 levels \"Abbing, Mr. Anthony\",..: 109 191 358 277 16 559 520 629 417 581 ...\n",
      " $ Sex        : Factor w/ 2 levels \"female\",\"male\": 2 1 1 1 2 2 2 2 1 1 ...\n",
      " $ Age        : num  22 38 26 35 35 NA 54 2 27 14 ...\n",
      " $ SibSp      : int  1 1 0 1 0 0 0 3 0 1 ...\n",
      " $ Parch      : int  0 0 0 0 0 0 0 1 2 0 ...\n",
      " $ Ticket     : Factor w/ 929 levels \"110152\",\"110413\",..: 524 597 670 50 473 276 86 396 345 133 ...\n",
      " $ Fare       : num  7.25 71.28 7.92 53.1 8.05 ...\n",
      " $ Cabin      : Factor w/ 187 levels \"\",\"A10\",\"A14\",..: 1 83 1 57 1 1 131 1 1 1 ...\n",
      " $ Embarked   : Factor w/ 4 levels \"\",\"C\",\"Q\",\"S\": 4 2 4 4 4 3 4 4 4 2 ...\n"
     ]
    }
   ],
   "source": [
    "str(data.combined)"
   ]
  },
  {
   "cell_type": "code",
   "execution_count": 38,
   "metadata": {},
   "outputs": [],
   "source": [
    "data.combined$Pclass <- as.factor(data.combined$Pclass)\n",
    "data.combined$Survived <- as.factor(data.combined$Survived)"
   ]
  },
  {
   "cell_type": "code",
   "execution_count": 39,
   "metadata": {},
   "outputs": [
    {
     "data": {
      "text/plain": [
       "\n",
       "   0    1 None \n",
       " 549  342  418 "
      ]
     },
     "metadata": {},
     "output_type": "display_data"
    }
   ],
   "source": [
    "table(data.combined$Survived)"
   ]
  },
  {
   "cell_type": "code",
   "execution_count": 40,
   "metadata": {},
   "outputs": [
    {
     "data": {
      "text/plain": [
       "\n",
       "  1   2   3 \n",
       "323 277 709 "
      ]
     },
     "metadata": {},
     "output_type": "display_data"
    }
   ],
   "source": [
    "table(data.combined$Pclass)"
   ]
  },
  {
   "cell_type": "code",
   "execution_count": 41,
   "metadata": {},
   "outputs": [
    {
     "name": "stdout",
     "output_type": "stream",
     "text": [
      " Factor w/ 3 levels \"1\",\"2\",\"3\": 3 1 3 1 3 3 1 3 3 2 ...\n"
     ]
    }
   ],
   "source": [
    "train$Pclass <- as.factor(train$Pclass)\n",
    "str(train$Pclass)"
   ]
  },
  {
   "cell_type": "code",
   "execution_count": 42,
   "metadata": {},
   "outputs": [],
   "source": [
    "library(\"ggplot2\")"
   ]
  },
  {
   "cell_type": "code",
   "execution_count": 43,
   "metadata": {},
   "outputs": [
    {
     "data": {},
     "metadata": {},
     "output_type": "display_data"
    },
    {
     "data": {
      "image/png": "[encoded data removed]",
      "text/plain": [
       "plot without title"
      ]
     },
     "metadata": {},
     "output_type": "display_data"
    }
   ],
   "source": [
    "ggplot(train, aes(x = Pclass, fill = factor(Survived))) +\n",
    "  geom_bar(width = 0.9) +\n",
    "  xlab(\"Classe\") +\n",
    "  ylab(\"Total de passageiros\") +\n",
    "  labs(fill = \"Sobreviventes\")"
   ]
  },
  {
   "cell_type": "code",
   "execution_count": 44,
   "metadata": {},
   "outputs": [
    {
     "data": {
      "text/html": [
       "<ol class=list-inline>\n",
       "\t<li>'Braund, Mr. Owen Harris'</li>\n",
       "\t<li>'Cumings, Mrs. John Bradley (Florence Briggs Thayer)'</li>\n",
       "\t<li>'Heikkinen, Miss. Laina'</li>\n",
       "\t<li>'Futrelle, Mrs. Jacques Heath (Lily May Peel)'</li>\n",
       "\t<li>'Allen, Mr. William Henry'</li>\n",
       "\t<li>'Moran, Mr. James'</li>\n",
       "</ol>\n"
      ],
      "text/latex": [
       "\\begin{enumerate*}\n",
       "\\item 'Braund, Mr. Owen Harris'\n",
       "\\item 'Cumings, Mrs. John Bradley (Florence Briggs Thayer)'\n",
       "\\item 'Heikkinen, Miss. Laina'\n",
       "\\item 'Futrelle, Mrs. Jacques Heath (Lily May Peel)'\n",
       "\\item 'Allen, Mr. William Henry'\n",
       "\\item 'Moran, Mr. James'\n",
       "\\end{enumerate*}\n"
      ],
      "text/markdown": [
       "1. 'Braund, Mr. Owen Harris'\n",
       "2. 'Cumings, Mrs. John Bradley (Florence Briggs Thayer)'\n",
       "3. 'Heikkinen, Miss. Laina'\n",
       "4. 'Futrelle, Mrs. Jacques Heath (Lily May Peel)'\n",
       "5. 'Allen, Mr. William Henry'\n",
       "6. 'Moran, Mr. James'\n",
       "\n",
       "\n"
      ],
      "text/plain": [
       "[1] \"Braund, Mr. Owen Harris\"                            \n",
       "[2] \"Cumings, Mrs. John Bradley (Florence Briggs Thayer)\"\n",
       "[3] \"Heikkinen, Miss. Laina\"                             \n",
       "[4] \"Futrelle, Mrs. Jacques Heath (Lily May Peel)\"       \n",
       "[5] \"Allen, Mr. William Henry\"                           \n",
       "[6] \"Moran, Mr. James\"                                   "
      ]
     },
     "metadata": {},
     "output_type": "display_data"
    }
   ],
   "source": [
    "head(as.character(train$Name))"
   ]
  },
  {
   "cell_type": "code",
   "execution_count": 45,
   "metadata": {},
   "outputs": [
    {
     "data": {
      "text/html": [
       "1309"
      ],
      "text/latex": [
       "1309"
      ],
      "text/markdown": [
       "1309"
      ],
      "text/plain": [
       "[1] 1309"
      ]
     },
     "metadata": {},
     "output_type": "display_data"
    }
   ],
   "source": [
    "length(as.character(data.combined$Name))"
   ]
  },
  {
   "cell_type": "code",
   "execution_count": 46,
   "metadata": {},
   "outputs": [
    {
     "data": {
      "text/html": [
       "1307"
      ],
      "text/latex": [
       "1307"
      ],
      "text/markdown": [
       "1307"
      ],
      "text/plain": [
       "[1] 1307"
      ]
     },
     "metadata": {},
     "output_type": "display_data"
    }
   ],
   "source": [
    "length(unique(as.character(data.combined$Name)))"
   ]
  },
  {
   "cell_type": "code",
   "execution_count": 47,
   "metadata": {},
   "outputs": [
    {
     "data": {
      "text/html": [
       "<table>\n",
       "<thead><tr><th></th><th scope=col>PassengerId</th><th scope=col>Survived</th><th scope=col>Pclass</th><th scope=col>Name</th><th scope=col>Sex</th><th scope=col>Age</th><th scope=col>SibSp</th><th scope=col>Parch</th><th scope=col>Ticket</th><th scope=col>Fare</th><th scope=col>Cabin</th><th scope=col>Embarked</th></tr></thead>\n",
       "<tbody>\n",
       "\t<tr><th scope=row>290</th><td>290                 </td><td>1                   </td><td>3                   </td><td>Connolly, Miss. Kate</td><td>female              </td><td>22.0                </td><td>0                   </td><td>0                   </td><td>370373              </td><td>7.7500              </td><td>                    </td><td>Q                   </td></tr>\n",
       "\t<tr><th scope=row>697</th><td>697                 </td><td>0                   </td><td>3                   </td><td>Kelly, Mr. James    </td><td>male                </td><td>44.0                </td><td>0                   </td><td>0                   </td><td>363592              </td><td>8.0500              </td><td>                    </td><td>S                   </td></tr>\n",
       "\t<tr><th scope=row>892</th><td>892                 </td><td>None                </td><td>3                   </td><td>Kelly, Mr. James    </td><td>male                </td><td>34.5                </td><td>0                   </td><td>0                   </td><td>330911              </td><td>7.8292              </td><td>                    </td><td>Q                   </td></tr>\n",
       "\t<tr><th scope=row>898</th><td>898                 </td><td>None                </td><td>3                   </td><td>Connolly, Miss. Kate</td><td>female              </td><td>30.0                </td><td>0                   </td><td>0                   </td><td>330972              </td><td>7.6292              </td><td>                    </td><td>Q                   </td></tr>\n",
       "</tbody>\n",
       "</table>\n"
      ],
      "text/latex": [
       "\\begin{tabular}{r|llllllllllll}\n",
       "  & PassengerId & Survived & Pclass & Name & Sex & Age & SibSp & Parch & Ticket & Fare & Cabin & Embarked\\\\\n",
       "\\hline\n",
       "\t290 & 290                  & 1                    & 3                    & Connolly, Miss. Kate & female               & 22.0                 & 0                    & 0                    & 370373               & 7.7500               &                      & Q                   \\\\\n",
       "\t697 & 697                  & 0                    & 3                    & Kelly, Mr. James     & male                 & 44.0                 & 0                    & 0                    & 363592               & 8.0500               &                      & S                   \\\\\n",
       "\t892 & 892                  & None                 & 3                    & Kelly, Mr. James     & male                 & 34.5                 & 0                    & 0                    & 330911               & 7.8292               &                      & Q                   \\\\\n",
       "\t898 & 898                  & None                 & 3                    & Connolly, Miss. Kate & female               & 30.0                 & 0                    & 0                    & 330972               & 7.6292               &                      & Q                   \\\\\n",
       "\\end{tabular}\n"
      ],
      "text/markdown": [
       "\n",
       "| <!--/--> | PassengerId | Survived | Pclass | Name | Sex | Age | SibSp | Parch | Ticket | Fare | Cabin | Embarked | \n",
       "|---|---|---|---|\n",
       "| 290 | 290                  | 1                    | 3                    | Connolly, Miss. Kate | female               | 22.0                 | 0                    | 0                    | 370373               | 7.7500               |                      | Q                    | \n",
       "| 697 | 697                  | 0                    | 3                    | Kelly, Mr. James     | male                 | 44.0                 | 0                    | 0                    | 363592               | 8.0500               |                      | S                    | \n",
       "| 892 | 892                  | None                 | 3                    | Kelly, Mr. James     | male                 | 34.5                 | 0                    | 0                    | 330911               | 7.8292               |                      | Q                    | \n",
       "| 898 | 898                  | None                 | 3                    | Connolly, Miss. Kate | female               | 30.0                 | 0                    | 0                    | 330972               | 7.6292               |                      | Q                    | \n",
       "\n",
       "\n"
      ],
      "text/plain": [
       "    PassengerId Survived Pclass Name                 Sex    Age  SibSp Parch\n",
       "290 290         1        3      Connolly, Miss. Kate female 22.0 0     0    \n",
       "697 697         0        3      Kelly, Mr. James     male   44.0 0     0    \n",
       "892 892         None     3      Kelly, Mr. James     male   34.5 0     0    \n",
       "898 898         None     3      Connolly, Miss. Kate female 30.0 0     0    \n",
       "    Ticket Fare   Cabin Embarked\n",
       "290 370373 7.7500       Q       \n",
       "697 363592 8.0500       S       \n",
       "892 330911 7.8292       Q       \n",
       "898 330972 7.6292       Q       "
      ]
     },
     "metadata": {},
     "output_type": "display_data"
    }
   ],
   "source": [
    "dup.names <- as.character(data.combined[which(duplicated(as.character(data.combined$Name))), \"Name\"])\n",
    "data.combined[which(data.combined$Name %in% dup.names),]"
   ]
  },
  {
   "cell_type": "code",
   "execution_count": 48,
   "metadata": {},
   "outputs": [],
   "source": [
    "library(\"stringr\")"
   ]
  },
  {
   "cell_type": "code",
   "execution_count": 49,
   "metadata": {},
   "outputs": [],
   "source": [
    "misses <- data.combined[which(str_detect(data.combined$Name, \"Miss.\")), ]"
   ]
  },
  {
   "cell_type": "code",
   "execution_count": 50,
   "metadata": {},
   "outputs": [
    {
     "data": {
      "text/html": [
       "<table>\n",
       "<thead><tr><th></th><th scope=col>PassengerId</th><th scope=col>Survived</th><th scope=col>Pclass</th><th scope=col>Name</th><th scope=col>Sex</th><th scope=col>Age</th><th scope=col>SibSp</th><th scope=col>Parch</th><th scope=col>Ticket</th><th scope=col>Fare</th><th scope=col>Cabin</th><th scope=col>Embarked</th></tr></thead>\n",
       "<tbody>\n",
       "\t<tr><th scope=row>3</th><td> 3                                  </td><td>1                                   </td><td>3                                   </td><td>Heikkinen, Miss. Laina              </td><td>female                              </td><td>26                                  </td><td>0                                   </td><td>0                                   </td><td>STON/O2. 3101282                    </td><td> 7.9250                             </td><td>                                    </td><td>S                                   </td></tr>\n",
       "\t<tr><th scope=row>11</th><td>11                                  </td><td>1                                   </td><td>3                                   </td><td>Sandstrom, Miss. Marguerite Rut     </td><td>female                              </td><td> 4                                  </td><td>1                                   </td><td>1                                   </td><td>PP 9549                             </td><td>16.7000                             </td><td>G6                                  </td><td>S                                   </td></tr>\n",
       "\t<tr><th scope=row>12</th><td>12                                  </td><td>1                                   </td><td>1                                   </td><td>Bonnell, Miss. Elizabeth            </td><td>female                              </td><td>58                                  </td><td>0                                   </td><td>0                                   </td><td>113783                              </td><td>26.5500                             </td><td>C103                                </td><td>S                                   </td></tr>\n",
       "\t<tr><th scope=row>15</th><td>15                                  </td><td>0                                   </td><td>3                                   </td><td>Vestrom, Miss. Hulda Amanda Adolfina</td><td>female                              </td><td>14                                  </td><td>0                                   </td><td>0                                   </td><td>350406                              </td><td> 7.8542                             </td><td>                                    </td><td>S                                   </td></tr>\n",
       "\t<tr><th scope=row>23</th><td>23                                  </td><td>1                                   </td><td>3                                   </td><td>McGowan, Miss. Anna \"Annie\"         </td><td>female                              </td><td>15                                  </td><td>0                                   </td><td>0                                   </td><td>330923                              </td><td> 8.0292                             </td><td>                                    </td><td>Q                                   </td></tr>\n",
       "\t<tr><th scope=row>25</th><td>25                                  </td><td>0                                   </td><td>3                                   </td><td>Palsson, Miss. Torborg Danira       </td><td>female                              </td><td> 8                                  </td><td>3                                   </td><td>1                                   </td><td>349909                              </td><td>21.0750                             </td><td>                                    </td><td>S                                   </td></tr>\n",
       "\t<tr><th scope=row>29</th><td>29                                  </td><td>1                                   </td><td>3                                   </td><td>O'Dwyer, Miss. Ellen \"Nellie\"       </td><td>female                              </td><td>NA                                  </td><td>0                                   </td><td>0                                   </td><td>330959                              </td><td> 7.8792                             </td><td>                                    </td><td>Q                                   </td></tr>\n",
       "\t<tr><th scope=row>33</th><td>33                                  </td><td>1                                   </td><td>3                                   </td><td>Glynn, Miss. Mary Agatha            </td><td>female                              </td><td>NA                                  </td><td>0                                   </td><td>0                                   </td><td>335677                              </td><td> 7.7500                             </td><td>                                    </td><td>Q                                   </td></tr>\n",
       "\t<tr><th scope=row>39</th><td>39                                  </td><td>0                                   </td><td>3                                   </td><td>Vander Planke, Miss. Augusta Maria  </td><td>female                              </td><td>18                                  </td><td>2                                   </td><td>0                                   </td><td>345764                              </td><td>18.0000                             </td><td>                                    </td><td>S                                   </td></tr>\n",
       "\t<tr><th scope=row>40</th><td>40                                  </td><td>1                                   </td><td>3                                   </td><td>Nicola-Yarred, Miss. Jamila         </td><td>female                              </td><td>14                                  </td><td>1                                   </td><td>0                                   </td><td>2651                                </td><td>11.2417                             </td><td>                                    </td><td>C                                   </td></tr>\n",
       "</tbody>\n",
       "</table>\n"
      ],
      "text/latex": [
       "\\begin{tabular}{r|llllllllllll}\n",
       "  & PassengerId & Survived & Pclass & Name & Sex & Age & SibSp & Parch & Ticket & Fare & Cabin & Embarked\\\\\n",
       "\\hline\n",
       "\t3 &  3                                   & 1                                    & 3                                    & Heikkinen, Miss. Laina               & female                               & 26                                   & 0                                    & 0                                    & STON/O2. 3101282                     &  7.9250                              &                                      & S                                   \\\\\n",
       "\t11 & 11                                   & 1                                    & 3                                    & Sandstrom, Miss. Marguerite Rut      & female                               &  4                                   & 1                                    & 1                                    & PP 9549                              & 16.7000                              & G6                                   & S                                   \\\\\n",
       "\t12 & 12                                   & 1                                    & 1                                    & Bonnell, Miss. Elizabeth             & female                               & 58                                   & 0                                    & 0                                    & 113783                               & 26.5500                              & C103                                 & S                                   \\\\\n",
       "\t15 & 15                                   & 0                                    & 3                                    & Vestrom, Miss. Hulda Amanda Adolfina & female                               & 14                                   & 0                                    & 0                                    & 350406                               &  7.8542                              &                                      & S                                   \\\\\n",
       "\t23 & 23                                   & 1                                    & 3                                    & McGowan, Miss. Anna \"Annie\"          & female                               & 15                                   & 0                                    & 0                                    & 330923                               &  8.0292                              &                                      & Q                                   \\\\\n",
       "\t25 & 25                                   & 0                                    & 3                                    & Palsson, Miss. Torborg Danira        & female                               &  8                                   & 3                                    & 1                                    & 349909                               & 21.0750                              &                                      & S                                   \\\\\n",
       "\t29 & 29                                   & 1                                    & 3                                    & O'Dwyer, Miss. Ellen \"Nellie\"        & female                               & NA                                   & 0                                    & 0                                    & 330959                               &  7.8792                              &                                      & Q                                   \\\\\n",
       "\t33 & 33                                   & 1                                    & 3                                    & Glynn, Miss. Mary Agatha             & female                               & NA                                   & 0                                    & 0                                    & 335677                               &  7.7500                              &                                      & Q                                   \\\\\n",
       "\t39 & 39                                   & 0                                    & 3                                    & Vander Planke, Miss. Augusta Maria   & female                               & 18                                   & 2                                    & 0                                    & 345764                               & 18.0000                              &                                      & S                                   \\\\\n",
       "\t40 & 40                                   & 1                                    & 3                                    & Nicola-Yarred, Miss. Jamila          & female                               & 14                                   & 1                                    & 0                                    & 2651                                 & 11.2417                              &                                      & C                                   \\\\\n",
       "\\end{tabular}\n"
      ],
      "text/markdown": [
       "\n",
       "| <!--/--> | PassengerId | Survived | Pclass | Name | Sex | Age | SibSp | Parch | Ticket | Fare | Cabin | Embarked | \n",
       "|---|---|---|---|---|---|---|---|---|---|\n",
       "| 3 |  3                                   | 1                                    | 3                                    | Heikkinen, Miss. Laina               | female                               | 26                                   | 0                                    | 0                                    | STON/O2. 3101282                     |  7.9250                              |                                      | S                                    | \n",
       "| 11 | 11                                   | 1                                    | 3                                    | Sandstrom, Miss. Marguerite Rut      | female                               |  4                                   | 1                                    | 1                                    | PP 9549                              | 16.7000                              | G6                                   | S                                    | \n",
       "| 12 | 12                                   | 1                                    | 1                                    | Bonnell, Miss. Elizabeth             | female                               | 58                                   | 0                                    | 0                                    | 113783                               | 26.5500                              | C103                                 | S                                    | \n",
       "| 15 | 15                                   | 0                                    | 3                                    | Vestrom, Miss. Hulda Amanda Adolfina | female                               | 14                                   | 0                                    | 0                                    | 350406                               |  7.8542                              |                                      | S                                    | \n",
       "| 23 | 23                                   | 1                                    | 3                                    | McGowan, Miss. Anna \"Annie\"          | female                               | 15                                   | 0                                    | 0                                    | 330923                               |  8.0292                              |                                      | Q                                    | \n",
       "| 25 | 25                                   | 0                                    | 3                                    | Palsson, Miss. Torborg Danira        | female                               |  8                                   | 3                                    | 1                                    | 349909                               | 21.0750                              |                                      | S                                    | \n",
       "| 29 | 29                                   | 1                                    | 3                                    | O'Dwyer, Miss. Ellen \"Nellie\"        | female                               | NA                                   | 0                                    | 0                                    | 330959                               |  7.8792                              |                                      | Q                                    | \n",
       "| 33 | 33                                   | 1                                    | 3                                    | Glynn, Miss. Mary Agatha             | female                               | NA                                   | 0                                    | 0                                    | 335677                               |  7.7500                              |                                      | Q                                    | \n",
       "| 39 | 39                                   | 0                                    | 3                                    | Vander Planke, Miss. Augusta Maria   | female                               | 18                                   | 2                                    | 0                                    | 345764                               | 18.0000                              |                                      | S                                    | \n",
       "| 40 | 40                                   | 1                                    | 3                                    | Nicola-Yarred, Miss. Jamila          | female                               | 14                                   | 1                                    | 0                                    | 2651                                 | 11.2417                              |                                      | C                                    | \n",
       "\n",
       "\n"
      ],
      "text/plain": [
       "   PassengerId Survived Pclass Name                                 Sex    Age\n",
       "3   3          1        3      Heikkinen, Miss. Laina               female 26 \n",
       "11 11          1        3      Sandstrom, Miss. Marguerite Rut      female  4 \n",
       "12 12          1        1      Bonnell, Miss. Elizabeth             female 58 \n",
       "15 15          0        3      Vestrom, Miss. Hulda Amanda Adolfina female 14 \n",
       "23 23          1        3      McGowan, Miss. Anna \"Annie\"          female 15 \n",
       "25 25          0        3      Palsson, Miss. Torborg Danira        female  8 \n",
       "29 29          1        3      O'Dwyer, Miss. Ellen \"Nellie\"        female NA \n",
       "33 33          1        3      Glynn, Miss. Mary Agatha             female NA \n",
       "39 39          0        3      Vander Planke, Miss. Augusta Maria   female 18 \n",
       "40 40          1        3      Nicola-Yarred, Miss. Jamila          female 14 \n",
       "   SibSp Parch Ticket           Fare    Cabin Embarked\n",
       "3  0     0     STON/O2. 3101282  7.9250       S       \n",
       "11 1     1     PP 9549          16.7000 G6    S       \n",
       "12 0     0     113783           26.5500 C103  S       \n",
       "15 0     0     350406            7.8542       S       \n",
       "23 0     0     330923            8.0292       Q       \n",
       "25 3     1     349909           21.0750       S       \n",
       "29 0     0     330959            7.8792       Q       \n",
       "33 0     0     335677            7.7500       Q       \n",
       "39 2     0     345764           18.0000       S       \n",
       "40 1     0     2651             11.2417       C       "
      ]
     },
     "metadata": {},
     "output_type": "display_data"
    }
   ],
   "source": [
    "misses[1:10,]"
   ]
  },
  {
   "cell_type": "code",
   "execution_count": 51,
   "metadata": {},
   "outputs": [],
   "source": [
    "mrses <- data.combined[which(str_detect(data.combined$Name, \"Mrs.\")), ]"
   ]
  },
  {
   "cell_type": "code",
   "execution_count": 52,
   "metadata": {},
   "outputs": [
    {
     "data": {
      "text/html": [
       "<table>\n",
       "<thead><tr><th></th><th scope=col>PassengerId</th><th scope=col>Survived</th><th scope=col>Pclass</th><th scope=col>Name</th><th scope=col>Sex</th><th scope=col>Age</th><th scope=col>SibSp</th><th scope=col>Parch</th><th scope=col>Ticket</th><th scope=col>Fare</th><th scope=col>Cabin</th><th scope=col>Embarked</th></tr></thead>\n",
       "<tbody>\n",
       "\t<tr><th scope=row>2</th><td> 2                                                       </td><td>1                                                        </td><td>1                                                        </td><td>Cumings, Mrs. John Bradley (Florence Briggs Thayer)      </td><td>female                                                   </td><td>38                                                       </td><td>1                                                        </td><td>0                                                        </td><td>PC 17599                                                 </td><td> 71.2833                                                 </td><td>C85                                                      </td><td>C                                                        </td></tr>\n",
       "\t<tr><th scope=row>4</th><td> 4                                                       </td><td>1                                                        </td><td>1                                                        </td><td>Futrelle, Mrs. Jacques Heath (Lily May Peel)             </td><td>female                                                   </td><td>35                                                       </td><td>1                                                        </td><td>0                                                        </td><td>113803                                                   </td><td> 53.1000                                                 </td><td>C123                                                     </td><td>S                                                        </td></tr>\n",
       "\t<tr><th scope=row>9</th><td> 9                                                       </td><td>1                                                        </td><td>3                                                        </td><td>Johnson, Mrs. Oscar W (Elisabeth Vilhelmina Berg)        </td><td>female                                                   </td><td>27                                                       </td><td>0                                                        </td><td>2                                                        </td><td>347742                                                   </td><td> 11.1333                                                 </td><td>                                                         </td><td>S                                                        </td></tr>\n",
       "\t<tr><th scope=row>10</th><td>10                                                       </td><td>1                                                        </td><td>2                                                        </td><td>Nasser, Mrs. Nicholas (Adele Achem)                      </td><td>female                                                   </td><td>14                                                       </td><td>1                                                        </td><td>0                                                        </td><td>237736                                                   </td><td> 30.0708                                                 </td><td>                                                         </td><td>C                                                        </td></tr>\n",
       "\t<tr><th scope=row>16</th><td>16                                                       </td><td>1                                                        </td><td>2                                                        </td><td>Hewlett, Mrs. (Mary D Kingcome)                          </td><td>female                                                   </td><td>55                                                       </td><td>0                                                        </td><td>0                                                        </td><td>248706                                                   </td><td> 16.0000                                                 </td><td>                                                         </td><td>S                                                        </td></tr>\n",
       "\t<tr><th scope=row>19</th><td>19                                                       </td><td>0                                                        </td><td>3                                                        </td><td>Vander Planke, Mrs. Julius (Emelia Maria Vandemoortele)  </td><td>female                                                   </td><td>31                                                       </td><td>1                                                        </td><td>0                                                        </td><td>345763                                                   </td><td> 18.0000                                                 </td><td>                                                         </td><td>S                                                        </td></tr>\n",
       "\t<tr><th scope=row>20</th><td>20                                                       </td><td>1                                                        </td><td>3                                                        </td><td>Masselmani, Mrs. Fatima                                  </td><td>female                                                   </td><td>NA                                                       </td><td>0                                                        </td><td>0                                                        </td><td>2649                                                     </td><td>  7.2250                                                 </td><td>                                                         </td><td>C                                                        </td></tr>\n",
       "\t<tr><th scope=row>26</th><td>26                                                       </td><td>1                                                        </td><td>3                                                        </td><td>Asplund, Mrs. Carl Oscar (Selma Augusta Emilia Johansson)</td><td>female                                                   </td><td>38                                                       </td><td>1                                                        </td><td>5                                                        </td><td>347077                                                   </td><td> 31.3875                                                 </td><td>                                                         </td><td>S                                                        </td></tr>\n",
       "\t<tr><th scope=row>32</th><td>32                                                       </td><td>1                                                        </td><td>1                                                        </td><td>Spencer, Mrs. William Augustus (Marie Eugenie)           </td><td>female                                                   </td><td>NA                                                       </td><td>1                                                        </td><td>0                                                        </td><td>PC 17569                                                 </td><td>146.5208                                                 </td><td>B78                                                      </td><td>C                                                        </td></tr>\n",
       "\t<tr><th scope=row>41</th><td>41                                                       </td><td>0                                                        </td><td>3                                                        </td><td>Ahlin, Mrs. Johan (Johanna Persdotter Larsson)           </td><td>female                                                   </td><td>40                                                       </td><td>1                                                        </td><td>0                                                        </td><td>7546                                                     </td><td>  9.4750                                                 </td><td>                                                         </td><td>S                                                        </td></tr>\n",
       "</tbody>\n",
       "</table>\n"
      ],
      "text/latex": [
       "\\begin{tabular}{r|llllllllllll}\n",
       "  & PassengerId & Survived & Pclass & Name & Sex & Age & SibSp & Parch & Ticket & Fare & Cabin & Embarked\\\\\n",
       "\\hline\n",
       "\t2 &  2                                                        & 1                                                         & 1                                                         & Cumings, Mrs. John Bradley (Florence Briggs Thayer)       & female                                                    & 38                                                        & 1                                                         & 0                                                         & PC 17599                                                  &  71.2833                                                  & C85                                                       & C                                                        \\\\\n",
       "\t4 &  4                                                        & 1                                                         & 1                                                         & Futrelle, Mrs. Jacques Heath (Lily May Peel)              & female                                                    & 35                                                        & 1                                                         & 0                                                         & 113803                                                    &  53.1000                                                  & C123                                                      & S                                                        \\\\\n",
       "\t9 &  9                                                        & 1                                                         & 3                                                         & Johnson, Mrs. Oscar W (Elisabeth Vilhelmina Berg)         & female                                                    & 27                                                        & 0                                                         & 2                                                         & 347742                                                    &  11.1333                                                  &                                                           & S                                                        \\\\\n",
       "\t10 & 10                                                        & 1                                                         & 2                                                         & Nasser, Mrs. Nicholas (Adele Achem)                       & female                                                    & 14                                                        & 1                                                         & 0                                                         & 237736                                                    &  30.0708                                                  &                                                           & C                                                        \\\\\n",
       "\t16 & 16                                                        & 1                                                         & 2                                                         & Hewlett, Mrs. (Mary D Kingcome)                           & female                                                    & 55                                                        & 0                                                         & 0                                                         & 248706                                                    &  16.0000                                                  &                                                           & S                                                        \\\\\n",
       "\t19 & 19                                                        & 0                                                         & 3                                                         & Vander Planke, Mrs. Julius (Emelia Maria Vandemoortele)   & female                                                    & 31                                                        & 1                                                         & 0                                                         & 345763                                                    &  18.0000                                                  &                                                           & S                                                        \\\\\n",
       "\t20 & 20                                                        & 1                                                         & 3                                                         & Masselmani, Mrs. Fatima                                   & female                                                    & NA                                                        & 0                                                         & 0                                                         & 2649                                                      &   7.2250                                                  &                                                           & C                                                        \\\\\n",
       "\t26 & 26                                                        & 1                                                         & 3                                                         & Asplund, Mrs. Carl Oscar (Selma Augusta Emilia Johansson) & female                                                    & 38                                                        & 1                                                         & 5                                                         & 347077                                                    &  31.3875                                                  &                                                           & S                                                        \\\\\n",
       "\t32 & 32                                                        & 1                                                         & 1                                                         & Spencer, Mrs. William Augustus (Marie Eugenie)            & female                                                    & NA                                                        & 1                                                         & 0                                                         & PC 17569                                                  & 146.5208                                                  & B78                                                       & C                                                        \\\\\n",
       "\t41 & 41                                                        & 0                                                         & 3                                                         & Ahlin, Mrs. Johan (Johanna Persdotter Larsson)            & female                                                    & 40                                                        & 1                                                         & 0                                                         & 7546                                                      &   9.4750                                                  &                                                           & S                                                        \\\\\n",
       "\\end{tabular}\n"
      ],
      "text/markdown": [
       "\n",
       "| <!--/--> | PassengerId | Survived | Pclass | Name | Sex | Age | SibSp | Parch | Ticket | Fare | Cabin | Embarked | \n",
       "|---|---|---|---|---|---|---|---|---|---|\n",
       "| 2 |  2                                                        | 1                                                         | 1                                                         | Cumings, Mrs. John Bradley (Florence Briggs Thayer)       | female                                                    | 38                                                        | 1                                                         | 0                                                         | PC 17599                                                  |  71.2833                                                  | C85                                                       | C                                                         | \n",
       "| 4 |  4                                                        | 1                                                         | 1                                                         | Futrelle, Mrs. Jacques Heath (Lily May Peel)              | female                                                    | 35                                                        | 1                                                         | 0                                                         | 113803                                                    |  53.1000                                                  | C123                                                      | S                                                         | \n",
       "| 9 |  9                                                        | 1                                                         | 3                                                         | Johnson, Mrs. Oscar W (Elisabeth Vilhelmina Berg)         | female                                                    | 27                                                        | 0                                                         | 2                                                         | 347742                                                    |  11.1333                                                  |                                                           | S                                                         | \n",
       "| 10 | 10                                                        | 1                                                         | 2                                                         | Nasser, Mrs. Nicholas (Adele Achem)                       | female                                                    | 14                                                        | 1                                                         | 0                                                         | 237736                                                    |  30.0708                                                  |                                                           | C                                                         | \n",
       "| 16 | 16                                                        | 1                                                         | 2                                                         | Hewlett, Mrs. (Mary D Kingcome)                           | female                                                    | 55                                                        | 0                                                         | 0                                                         | 248706                                                    |  16.0000                                                  |                                                           | S                                                         | \n",
       "| 19 | 19                                                        | 0                                                         | 3                                                         | Vander Planke, Mrs. Julius (Emelia Maria Vandemoortele)   | female                                                    | 31                                                        | 1                                                         | 0                                                         | 345763                                                    |  18.0000                                                  |                                                           | S                                                         | \n",
       "| 20 | 20                                                        | 1                                                         | 3                                                         | Masselmani, Mrs. Fatima                                   | female                                                    | NA                                                        | 0                                                         | 0                                                         | 2649                                                      |   7.2250                                                  |                                                           | C                                                         | \n",
       "| 26 | 26                                                        | 1                                                         | 3                                                         | Asplund, Mrs. Carl Oscar (Selma Augusta Emilia Johansson) | female                                                    | 38                                                        | 1                                                         | 5                                                         | 347077                                                    |  31.3875                                                  |                                                           | S                                                         | \n",
       "| 32 | 32                                                        | 1                                                         | 1                                                         | Spencer, Mrs. William Augustus (Marie Eugenie)            | female                                                    | NA                                                        | 1                                                         | 0                                                         | PC 17569                                                  | 146.5208                                                  | B78                                                       | C                                                         | \n",
       "| 41 | 41                                                        | 0                                                         | 3                                                         | Ahlin, Mrs. Johan (Johanna Persdotter Larsson)            | female                                                    | 40                                                        | 1                                                         | 0                                                         | 7546                                                      |   9.4750                                                  |                                                           | S                                                         | \n",
       "\n",
       "\n"
      ],
      "text/plain": [
       "   PassengerId Survived Pclass\n",
       "2   2          1        1     \n",
       "4   4          1        1     \n",
       "9   9          1        3     \n",
       "10 10          1        2     \n",
       "16 16          1        2     \n",
       "19 19          0        3     \n",
       "20 20          1        3     \n",
       "26 26          1        3     \n",
       "32 32          1        1     \n",
       "41 41          0        3     \n",
       "   Name                                                      Sex    Age SibSp\n",
       "2  Cumings, Mrs. John Bradley (Florence Briggs Thayer)       female 38  1    \n",
       "4  Futrelle, Mrs. Jacques Heath (Lily May Peel)              female 35  1    \n",
       "9  Johnson, Mrs. Oscar W (Elisabeth Vilhelmina Berg)         female 27  0    \n",
       "10 Nasser, Mrs. Nicholas (Adele Achem)                       female 14  1    \n",
       "16 Hewlett, Mrs. (Mary D Kingcome)                           female 55  0    \n",
       "19 Vander Planke, Mrs. Julius (Emelia Maria Vandemoortele)   female 31  1    \n",
       "20 Masselmani, Mrs. Fatima                                   female NA  0    \n",
       "26 Asplund, Mrs. Carl Oscar (Selma Augusta Emilia Johansson) female 38  1    \n",
       "32 Spencer, Mrs. William Augustus (Marie Eugenie)            female NA  1    \n",
       "41 Ahlin, Mrs. Johan (Johanna Persdotter Larsson)            female 40  1    \n",
       "   Parch Ticket   Fare     Cabin Embarked\n",
       "2  0     PC 17599  71.2833 C85   C       \n",
       "4  0     113803    53.1000 C123  S       \n",
       "9  2     347742    11.1333       S       \n",
       "10 0     237736    30.0708       C       \n",
       "16 0     248706    16.0000       S       \n",
       "19 0     345763    18.0000       S       \n",
       "20 0     2649       7.2250       C       \n",
       "26 5     347077    31.3875       S       \n",
       "32 0     PC 17569 146.5208 B78   C       \n",
       "41 0     7546       9.4750       S       "
      ]
     },
     "metadata": {},
     "output_type": "display_data"
    }
   ],
   "source": [
    "mrses[1:10,]"
   ]
  },
  {
   "cell_type": "code",
   "execution_count": 53,
   "metadata": {},
   "outputs": [],
   "source": [
    "males <- data.combined[which(data.combined$Sex == 'male'),]"
   ]
  },
  {
   "cell_type": "code",
   "execution_count": 54,
   "metadata": {},
   "outputs": [
    {
     "data": {
      "text/html": [
       "<table>\n",
       "<thead><tr><th></th><th scope=col>PassengerId</th><th scope=col>Survived</th><th scope=col>Pclass</th><th scope=col>Name</th><th scope=col>Sex</th><th scope=col>Age</th><th scope=col>SibSp</th><th scope=col>Parch</th><th scope=col>Ticket</th><th scope=col>Fare</th><th scope=col>Cabin</th><th scope=col>Embarked</th></tr></thead>\n",
       "<tbody>\n",
       "\t<tr><th scope=row>1</th><td> 1                            </td><td>0                             </td><td>3                             </td><td>Braund, Mr. Owen Harris       </td><td>male                          </td><td>22                            </td><td>1                             </td><td>0                             </td><td>A/5 21171                     </td><td> 7.2500                       </td><td>                              </td><td>S                             </td></tr>\n",
       "\t<tr><th scope=row>5</th><td> 5                            </td><td>0                             </td><td>3                             </td><td>Allen, Mr. William Henry      </td><td>male                          </td><td>35                            </td><td>0                             </td><td>0                             </td><td>373450                        </td><td> 8.0500                       </td><td>                              </td><td>S                             </td></tr>\n",
       "\t<tr><th scope=row>6</th><td> 6                            </td><td>0                             </td><td>3                             </td><td>Moran, Mr. James              </td><td>male                          </td><td>NA                            </td><td>0                             </td><td>0                             </td><td>330877                        </td><td> 8.4583                       </td><td>                              </td><td>Q                             </td></tr>\n",
       "\t<tr><th scope=row>7</th><td> 7                            </td><td>0                             </td><td>1                             </td><td>McCarthy, Mr. Timothy J       </td><td>male                          </td><td>54                            </td><td>0                             </td><td>0                             </td><td>17463                         </td><td>51.8625                       </td><td>E46                           </td><td>S                             </td></tr>\n",
       "\t<tr><th scope=row>8</th><td> 8                            </td><td>0                             </td><td>3                             </td><td>Palsson, Master. Gosta Leonard</td><td>male                          </td><td> 2                            </td><td>3                             </td><td>1                             </td><td>349909                        </td><td>21.0750                       </td><td>                              </td><td>S                             </td></tr>\n",
       "\t<tr><th scope=row>13</th><td>13                            </td><td>0                             </td><td>3                             </td><td>Saundercock, Mr. William Henry</td><td>male                          </td><td>20                            </td><td>0                             </td><td>0                             </td><td>A/5. 2151                     </td><td> 8.0500                       </td><td>                              </td><td>S                             </td></tr>\n",
       "\t<tr><th scope=row>14</th><td>14                            </td><td>0                             </td><td>3                             </td><td>Andersson, Mr. Anders Johan   </td><td>male                          </td><td>39                            </td><td>1                             </td><td>5                             </td><td>347082                        </td><td>31.2750                       </td><td>                              </td><td>S                             </td></tr>\n",
       "\t<tr><th scope=row>17</th><td>17                            </td><td>0                             </td><td>3                             </td><td>Rice, Master. Eugene          </td><td>male                          </td><td> 2                            </td><td>4                             </td><td>1                             </td><td>382652                        </td><td>29.1250                       </td><td>                              </td><td>Q                             </td></tr>\n",
       "\t<tr><th scope=row>18</th><td>18                            </td><td>1                             </td><td>2                             </td><td>Williams, Mr. Charles Eugene  </td><td>male                          </td><td>NA                            </td><td>0                             </td><td>0                             </td><td>244373                        </td><td>13.0000                       </td><td>                              </td><td>S                             </td></tr>\n",
       "\t<tr><th scope=row>21</th><td>21                            </td><td>0                             </td><td>2                             </td><td>Fynney, Mr. Joseph J          </td><td>male                          </td><td>35                            </td><td>0                             </td><td>0                             </td><td>239865                        </td><td>26.0000                       </td><td>                              </td><td>S                             </td></tr>\n",
       "</tbody>\n",
       "</table>\n"
      ],
      "text/latex": [
       "\\begin{tabular}{r|llllllllllll}\n",
       "  & PassengerId & Survived & Pclass & Name & Sex & Age & SibSp & Parch & Ticket & Fare & Cabin & Embarked\\\\\n",
       "\\hline\n",
       "\t1 &  1                             & 0                              & 3                              & Braund, Mr. Owen Harris        & male                           & 22                             & 1                              & 0                              & A/5 21171                      &  7.2500                        &                                & S                             \\\\\n",
       "\t5 &  5                             & 0                              & 3                              & Allen, Mr. William Henry       & male                           & 35                             & 0                              & 0                              & 373450                         &  8.0500                        &                                & S                             \\\\\n",
       "\t6 &  6                             & 0                              & 3                              & Moran, Mr. James               & male                           & NA                             & 0                              & 0                              & 330877                         &  8.4583                        &                                & Q                             \\\\\n",
       "\t7 &  7                             & 0                              & 1                              & McCarthy, Mr. Timothy J        & male                           & 54                             & 0                              & 0                              & 17463                          & 51.8625                        & E46                            & S                             \\\\\n",
       "\t8 &  8                             & 0                              & 3                              & Palsson, Master. Gosta Leonard & male                           &  2                             & 3                              & 1                              & 349909                         & 21.0750                        &                                & S                             \\\\\n",
       "\t13 & 13                             & 0                              & 3                              & Saundercock, Mr. William Henry & male                           & 20                             & 0                              & 0                              & A/5. 2151                      &  8.0500                        &                                & S                             \\\\\n",
       "\t14 & 14                             & 0                              & 3                              & Andersson, Mr. Anders Johan    & male                           & 39                             & 1                              & 5                              & 347082                         & 31.2750                        &                                & S                             \\\\\n",
       "\t17 & 17                             & 0                              & 3                              & Rice, Master. Eugene           & male                           &  2                             & 4                              & 1                              & 382652                         & 29.1250                        &                                & Q                             \\\\\n",
       "\t18 & 18                             & 1                              & 2                              & Williams, Mr. Charles Eugene   & male                           & NA                             & 0                              & 0                              & 244373                         & 13.0000                        &                                & S                             \\\\\n",
       "\t21 & 21                             & 0                              & 2                              & Fynney, Mr. Joseph J           & male                           & 35                             & 0                              & 0                              & 239865                         & 26.0000                        &                                & S                             \\\\\n",
       "\\end{tabular}\n"
      ],
      "text/markdown": [
       "\n",
       "| <!--/--> | PassengerId | Survived | Pclass | Name | Sex | Age | SibSp | Parch | Ticket | Fare | Cabin | Embarked | \n",
       "|---|---|---|---|---|---|---|---|---|---|\n",
       "| 1 |  1                             | 0                              | 3                              | Braund, Mr. Owen Harris        | male                           | 22                             | 1                              | 0                              | A/5 21171                      |  7.2500                        |                                | S                              | \n",
       "| 5 |  5                             | 0                              | 3                              | Allen, Mr. William Henry       | male                           | 35                             | 0                              | 0                              | 373450                         |  8.0500                        |                                | S                              | \n",
       "| 6 |  6                             | 0                              | 3                              | Moran, Mr. James               | male                           | NA                             | 0                              | 0                              | 330877                         |  8.4583                        |                                | Q                              | \n",
       "| 7 |  7                             | 0                              | 1                              | McCarthy, Mr. Timothy J        | male                           | 54                             | 0                              | 0                              | 17463                          | 51.8625                        | E46                            | S                              | \n",
       "| 8 |  8                             | 0                              | 3                              | Palsson, Master. Gosta Leonard | male                           |  2                             | 3                              | 1                              | 349909                         | 21.0750                        |                                | S                              | \n",
       "| 13 | 13                             | 0                              | 3                              | Saundercock, Mr. William Henry | male                           | 20                             | 0                              | 0                              | A/5. 2151                      |  8.0500                        |                                | S                              | \n",
       "| 14 | 14                             | 0                              | 3                              | Andersson, Mr. Anders Johan    | male                           | 39                             | 1                              | 5                              | 347082                         | 31.2750                        |                                | S                              | \n",
       "| 17 | 17                             | 0                              | 3                              | Rice, Master. Eugene           | male                           |  2                             | 4                              | 1                              | 382652                         | 29.1250                        |                                | Q                              | \n",
       "| 18 | 18                             | 1                              | 2                              | Williams, Mr. Charles Eugene   | male                           | NA                             | 0                              | 0                              | 244373                         | 13.0000                        |                                | S                              | \n",
       "| 21 | 21                             | 0                              | 2                              | Fynney, Mr. Joseph J           | male                           | 35                             | 0                              | 0                              | 239865                         | 26.0000                        |                                | S                              | \n",
       "\n",
       "\n"
      ],
      "text/plain": [
       "   PassengerId Survived Pclass Name                           Sex  Age SibSp\n",
       "1   1          0        3      Braund, Mr. Owen Harris        male 22  1    \n",
       "5   5          0        3      Allen, Mr. William Henry       male 35  0    \n",
       "6   6          0        3      Moran, Mr. James               male NA  0    \n",
       "7   7          0        1      McCarthy, Mr. Timothy J        male 54  0    \n",
       "8   8          0        3      Palsson, Master. Gosta Leonard male  2  3    \n",
       "13 13          0        3      Saundercock, Mr. William Henry male 20  0    \n",
       "14 14          0        3      Andersson, Mr. Anders Johan    male 39  1    \n",
       "17 17          0        3      Rice, Master. Eugene           male  2  4    \n",
       "18 18          1        2      Williams, Mr. Charles Eugene   male NA  0    \n",
       "21 21          0        2      Fynney, Mr. Joseph J           male 35  0    \n",
       "   Parch Ticket    Fare    Cabin Embarked\n",
       "1  0     A/5 21171  7.2500       S       \n",
       "5  0     373450     8.0500       S       \n",
       "6  0     330877     8.4583       Q       \n",
       "7  0     17463     51.8625 E46   S       \n",
       "8  1     349909    21.0750       S       \n",
       "13 0     A/5. 2151  8.0500       S       \n",
       "14 5     347082    31.2750       S       \n",
       "17 1     382652    29.1250       Q       \n",
       "18 0     244373    13.0000       S       \n",
       "21 0     239865    26.0000       S       "
      ]
     },
     "metadata": {},
     "output_type": "display_data"
    }
   ],
   "source": [
    "males[1:10,]"
   ]
  },
  {
   "cell_type": "code",
   "execution_count": null,
   "metadata": {},
   "outputs": [],
   "source": []
  }
 ],
 "metadata": {
  "kernelspec": {
   "display_name": "R",
   "language": "R",
   "name": "ir"
  },
  "language_info": {
   "codemirror_mode": "r",
   "file_extension": ".r",
   "mimetype": "text/x-r-source",
   "name": "R",
   "pygments_lexer": "r",
   "version": "3.4.3"
  }
 },
 "nbformat": 4,
 "nbformat_minor": 2
}
