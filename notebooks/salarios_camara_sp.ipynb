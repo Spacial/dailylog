{
 "cells": [
  {
   "cell_type": "code",
   "execution_count": 1,
   "metadata": {},
   "outputs": [],
   "source": [
    "# -----------------------------------------------\n",
    "# ANÁLISE DE REMUNERAÇÃO DOS SERVIDORES ESTADUAIS\n",
    "# -----------------------------------------------\n",
    "#\n",
    "# Autor: Rodolfo Viana\n",
    "# Início da análise: 21 de dezembro de 2017\n",
    "# Previsão de finalização da análise: 26 de dezembro de 2017\n",
    "# Fonte dos dados: Transparência SP - http://www.transparencia.sp.gov.br/busca-agentes.html\n",
    "# Recorte: De janeiro de 2017 a outubro de 2017 (último mês disponível)\n",
    "# Manipulação dos dados: acréscimo da coluna 'mes' nos arquivos .csv executado em SQL\n",
    "\n",
    "import pandas as pd\n",
    "import numpy as np\n",
    "\n",
    "jan = pd.read_csv('data/Janeiro_2017.csv', sep=';',\n",
    "                  converters={'remuneracao_mes': lambda x: float(x.replace(',','.')), \n",
    "                              'ferias_13salario': lambda x: float(x.replace(',','.')), \n",
    "                              'pagtos_eventuais': lambda x: float(x.replace(',','.')), \n",
    "                              'licenca_premio_indenizada': lambda x: float(x.replace(',','.')), \n",
    "                              'abono_permanencia_outras_inden': lambda x: float(x.replace(',','.')), \n",
    "                              'redutor_salarial': lambda x: float(x.replace(',','.')), \n",
    "                              'total_liquido': lambda x: float(x.replace(',','.'))},\n",
    "                  low_memory=False)\n",
    "fev = pd.read_csv('data/Fevereiro_2017.csv', sep=';',\n",
    "                  converters={'remuneracao_mes': lambda x: float(x.replace(',','.')), \n",
    "                              'ferias_13salario': lambda x: float(x.replace(',','.')), \n",
    "                              'pagtos_eventuais': lambda x: float(x.replace(',','.')), \n",
    "                              'licenca_premio_indenizada': lambda x: float(x.replace(',','.')), \n",
    "                              'abono_permanencia_outras_inden': lambda x: float(x.replace(',','.')), \n",
    "                              'redutor_salarial': lambda x: float(x.replace(',','.')), \n",
    "                              'total_liquido': lambda x: float(x.replace(',','.'))},\n",
    "                  low_memory=False)\n",
    "mar = pd.read_csv('data/Marco_2017.csv', sep=';',\n",
    "                  converters={'remuneracao_mes': lambda x: float(x.replace(',','.')), \n",
    "                              'ferias_13salario': lambda x: float(x.replace(',','.')), \n",
    "                              'pagtos_eventuais': lambda x: float(x.replace(',','.')), \n",
    "                              'licenca_premio_indenizada': lambda x: float(x.replace(',','.')), \n",
    "                              'abono_permanencia_outras_inden': lambda x: float(x.replace(',','.')), \n",
    "                              'redutor_salarial': lambda x: float(x.replace(',','.')), \n",
    "                              'total_liquido': lambda x: float(x.replace(',','.'))},\n",
    "                  low_memory=False)\n",
    "abr = pd.read_csv('data/Abril_2017.csv', sep=';',\n",
    "                  converters={'remuneracao_mes': lambda x: float(x.replace(',','.')), \n",
    "                              'ferias_13salario': lambda x: float(x.replace(',','.')), \n",
    "                              'pagtos_eventuais': lambda x: float(x.replace(',','.')), \n",
    "                              'licenca_premio_indenizada': lambda x: float(x.replace(',','.')), \n",
    "                              'abono_permanencia_outras_inden': lambda x: float(x.replace(',','.')), \n",
    "                              'redutor_salarial': lambda x: float(x.replace(',','.')), \n",
    "                              'total_liquido': lambda x: float(x.replace(',','.'))},\n",
    "                  low_memory=False)\n",
    "mai = pd.read_csv('data/Maio_2017.csv', sep=';',\n",
    "                  converters={'remuneracao_mes': lambda x: float(x.replace(',','.')), \n",
    "                              'ferias_13salario': lambda x: float(x.replace(',','.')), \n",
    "                              'pagtos_eventuais': lambda x: float(x.replace(',','.')), \n",
    "                              'licenca_premio_indenizada': lambda x: float(x.replace(',','.')), \n",
    "                              'abono_permanencia_outras_inden': lambda x: float(x.replace(',','.')), \n",
    "                              'redutor_salarial': lambda x: float(x.replace(',','.')), \n",
    "                              'total_liquido': lambda x: float(x.replace(',','.'))},\n",
    "                  low_memory=False)\n",
    "jun = pd.read_csv('data/Junho_2017.csv', sep=';',\n",
    "                  converters={'remuneracao_mes': lambda x: float(x.replace(',','.')), \n",
    "                              'ferias_13salario': lambda x: float(x.replace(',','.')), \n",
    "                              'pagtos_eventuais': lambda x: float(x.replace(',','.')), \n",
    "                              'licenca_premio_indenizada': lambda x: float(x.replace(',','.')), \n",
    "                              'abono_permanencia_outras_inden': lambda x: float(x.replace(',','.')), \n",
    "                              'redutor_salarial': lambda x: float(x.replace(',','.')), \n",
    "                              'total_liquido': lambda x: float(x.replace(',','.'))},\n",
    "                  low_memory=False)\n",
    "jul = pd.read_csv('data/Julho_2017.csv', sep=';',\n",
    "                  converters={'remuneracao_mes': lambda x: float(x.replace(',','.')), \n",
    "                              'ferias_13salario': lambda x: float(x.replace(',','.')), \n",
    "                              'pagtos_eventuais': lambda x: float(x.replace(',','.')), \n",
    "                              'licenca_premio_indenizada': lambda x: float(x.replace(',','.')), \n",
    "                              'abono_permanencia_outras_inden': lambda x: float(x.replace(',','.')), \n",
    "                              'redutor_salarial': lambda x: float(x.replace(',','.')), \n",
    "                              'total_liquido': lambda x: float(x.replace(',','.'))},\n",
    "                  low_memory=False)\n",
    "ago = pd.read_csv('data/Agosto_2017.csv', sep=';',\n",
    "                  converters={'remuneracao_mes': lambda x: float(x.replace(',','.')), \n",
    "                              'ferias_13salario': lambda x: float(x.replace(',','.')), \n",
    "                              'pagtos_eventuais': lambda x: float(x.replace(',','.')), \n",
    "                              'licenca_premio_indenizada': lambda x: float(x.replace(',','.')), \n",
    "                              'abono_permanencia_outras_inden': lambda x: float(x.replace(',','.')), \n",
    "                              'redutor_salarial': lambda x: float(x.replace(',','.')), \n",
    "                              'total_liquido': lambda x: float(x.replace(',','.'))},\n",
    "                  low_memory=False)\n",
    "sete = pd.read_csv('data/Setembro_2017.csv', sep=';',\n",
    "                   converters={'remuneracao_mes': lambda x: float(x.replace(',','.')), \n",
    "                              'ferias_13salario': lambda x: float(x.replace(',','.')), \n",
    "                              'pagtos_eventuais': lambda x: float(x.replace(',','.')), \n",
    "                              'licenca_premio_indenizada': lambda x: float(x.replace(',','.')), \n",
    "                              'abono_permanencia_outras_inden': lambda x: float(x.replace(',','.')), \n",
    "                              'redutor_salarial': lambda x: float(x.replace(',','.')), \n",
    "                              'total_liquido': lambda x: float(x.replace(',','.'))},\n",
    "                   low_memory=False)\n",
    "out = pd.read_csv('data/Outubro_2017.csv', sep=';',\n",
    "                  converters={'remuneracao_mes': lambda x: float(x.replace(',','.')), \n",
    "                              'ferias_13salario': lambda x: float(x.replace(',','.')), \n",
    "                              'pagtos_eventuais': lambda x: float(x.replace(',','.')), \n",
    "                              'licenca_premio_indenizada': lambda x: float(x.replace(',','.')), \n",
    "                              'abono_permanencia_outras_inden': lambda x: float(x.replace(',','.')), \n",
    "                              'redutor_salarial': lambda x: float(x.replace(',','.')), \n",
    "                              'total_liquido': lambda x: float(x.replace(',','.'))},\n",
    "                  low_memory=False)\n",
    "data = pd.concat([jan, fev, mar, abr, mai, jun, jul, ago, sete, out])"
   ]
  },
  {
   "cell_type": "code",
   "execution_count": 2,
   "metadata": {},
   "outputs": [
    {
     "name": "stdout",
     "output_type": "stream",
     "text": [
      "Registros em análise:  10826760\n",
      "Servidores em análise (exceto não identificados):  1013649\n",
      "Total de órgãos em análise:  88\n",
      "Total de remunerações: R$  46610796224.53473\n",
      "Total de valores pagos: R$  37054924204.00506\n"
     ]
    }
   ],
   "source": [
    "print('Registros em análise: ', len(data))\n",
    "print('Servidores em análise (exceto não identificados): ', data['nome'].nunique()-1)\n",
    "print('Total de órgãos em análise: ', data['orgao'].nunique())\n",
    "print('Total de remunerações: R$ ', data['remuneracao_mes'].sum())\n",
    "print('Total de valores pagos: R$ ', data['total_liquido'].sum())"
   ]
  },
  {
   "cell_type": "code",
   "execution_count": 30,
   "metadata": {},
   "outputs": [],
   "source": [
    "data['remuneracao_redutor'] = data['remuneracao_mes'] - (data['redutor_salarial'] * -1)"
   ]
  },
  {
   "cell_type": "code",
   "execution_count": 37,
   "metadata": {},
   "outputs": [],
   "source": [
    "acima_teto = data[data['remuneracao_redutor'] >= 21631.06]"
   ]
  },
  {
   "cell_type": "code",
   "execution_count": 39,
   "metadata": {},
   "outputs": [
    {
     "data": {
      "text/plain": [
       "45274"
      ]
     },
     "execution_count": 39,
     "metadata": {},
     "output_type": "execute_result"
    }
   ],
   "source": [
    "len(acima_teto)"
   ]
  },
  {
   "cell_type": "code",
   "execution_count": 41,
   "metadata": {},
   "outputs": [],
   "source": [
    "acima_teto.to_csv('output.csv', encoding='utf8', sep=';')"
   ]
  },
  {
   "cell_type": "code",
   "execution_count": null,
   "metadata": {
    "collapsed": true
   },
   "outputs": [],
   "source": []
  }
 ],
 "metadata": {
  "kernelspec": {
   "display_name": "Python 3",
   "language": "python",
   "name": "python3"
  },
  "language_info": {
   "codemirror_mode": {
    "name": "ipython",
    "version": 3
   },
   "file_extension": ".py",
   "mimetype": "text/x-python",
   "name": "python",
   "nbconvert_exporter": "python",
   "pygments_lexer": "ipython3",
   "version": "3.6.3"
  }
 },
 "nbformat": 4,
 "nbformat_minor": 2
}
