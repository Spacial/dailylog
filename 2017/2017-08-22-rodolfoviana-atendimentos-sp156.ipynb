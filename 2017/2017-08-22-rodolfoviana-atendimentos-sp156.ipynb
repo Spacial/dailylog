{
 "cells": [
  {
   "cell_type": "markdown",
   "metadata": {},
   "source": [
    "## ANÁLISE DE ATENDIMENTOS PELO SP156\n",
    "\n",
    "O SP156 é um canal de comunicação da Prefeitura de São Paulo pelo qual cidadãos podem fazer solicitações e reclamações. Mais informações podem ser encontradas em https://sp156.prefeitura.sp.gov.br/.\n",
    "\n",
    "A análise busca investigar quantos registros ainda não foram atendidos, quais os locais das ocorrências e quais os tipos mais comuns de solicitações. Também busca fazer um comparativo entre o primeiro semestre de 2016 (gestão Haddad) e o primeiro semestre de 2017 (gestão Doria).\n",
    "\n",
    "Os dados utilizados foram obtidos pelo portal Dados Abertos, em http://dados.prefeitura.sp.gov.br/.\n",
    "\n",
    "**A análise a seguir não está completa.** O estudo está sendo executado aos poucos. Portanto, os resultados serão apresentados ao longo dos próximos dias."
   ]
  },
  {
   "cell_type": "code",
   "execution_count": 1,
   "metadata": {},
   "outputs": [
    {
     "name": "stdout",
     "output_type": "stream",
     "text": [
      "Quantidade de registros em análise\n"
     ]
    },
    {
     "data": {
      "text/plain": [
       "(1150164, 11)"
      ]
     },
     "execution_count": 1,
     "metadata": {},
     "output_type": "execute_result"
    }
   ],
   "source": [
    "# Importação das ferramentas de análise\n",
    "import pandas as pd\n",
    "import numpy as np\n",
    "%matplotlib inline\n",
    "import matplotlib.pyplot as plt\n",
    "import seaborn as sns\n",
    "\n",
    "# Seleção dos dados utilizados na análise\n",
    "dataset1s2016 = pd.read_csv('data/sp156solicitacoes-detalhadas1sem2016.csv', \n",
    "                            sep=';', \n",
    "                            encoding='latin-1',\n",
    "                            low_memory=False)\n",
    "dataset2s2016 = pd.read_csv('data/sp156solicitacoes-detalhadas2sem2016.csv', \n",
    "                            sep=';', \n",
    "                            encoding='latin-1',\n",
    "                            low_memory=False)\n",
    "dataset1s2017 = pd.read_csv('data/sp156solicitacoes-detalhadas1sem2017.csv', \n",
    "                            sep=';', \n",
    "                            encoding='latin-1',\n",
    "                            low_memory=False)\n",
    "# Concatenação dos dados\n",
    "dataset = pd.concat([dataset1s2016, \n",
    "                     dataset2s2016, \n",
    "                     dataset1s2017])\n",
    "\n",
    "# Mensuração dos registros em análise\n",
    "print(\"Quantidade de registros em análise\")\n",
    "dataset.shape"
   ]
  },
  {
   "cell_type": "code",
   "execution_count": 2,
   "metadata": {},
   "outputs": [
    {
     "data": {
      "text/html": [
       "<div>\n",
       "<style>\n",
       "    .dataframe thead tr:only-child th {\n",
       "        text-align: right;\n",
       "    }\n",
       "\n",
       "    .dataframe thead th {\n",
       "        text-align: left;\n",
       "    }\n",
       "\n",
       "    .dataframe tbody tr th {\n",
       "        vertical-align: top;\n",
       "    }\n",
       "</style>\n",
       "<table border=\"1\" class=\"dataframe\">\n",
       "  <thead>\n",
       "    <tr style=\"text-align: right;\">\n",
       "      <th></th>\n",
       "      <th>Data de Abertura</th>\n",
       "      <th>Hora Abertura</th>\n",
       "      <th>Prefeitura Regional</th>\n",
       "      <th>Distrito</th>\n",
       "      <th>Órgão</th>\n",
       "      <th>Tema</th>\n",
       "      <th>Assunto</th>\n",
       "      <th>Serviço</th>\n",
       "      <th>Status da Solicitação</th>\n",
       "      <th>Data do Parecer</th>\n",
       "      <th>Hora do Parecer</th>\n",
       "    </tr>\n",
       "  </thead>\n",
       "  <tbody>\n",
       "    <tr>\n",
       "      <th>0</th>\n",
       "      <td>01/01/2016</td>\n",
       "      <td>00:04</td>\n",
       "      <td>MOOCA</td>\n",
       "      <td>TATUAPE</td>\n",
       "      <td>SPTRANS</td>\n",
       "      <td>Transporte</td>\n",
       "      <td>Conduta de trabalho do motorista, cobrador e f...</td>\n",
       "      <td>Denúncia de direção inadequada/perigosa de veí...</td>\n",
       "      <td>FINALIZADO</td>\n",
       "      <td>04/01/2016</td>\n",
       "      <td>16:36</td>\n",
       "    </tr>\n",
       "    <tr>\n",
       "      <th>1</th>\n",
       "      <td>01/01/2016</td>\n",
       "      <td>00:16</td>\n",
       "      <td>SAO MIGUEL</td>\n",
       "      <td>SAO MIGUEL</td>\n",
       "      <td>AMLURB</td>\n",
       "      <td>Lixo e limpeza</td>\n",
       "      <td>Conduta de funcionários</td>\n",
       "      <td>Denúncia de má conduta dos funcionários (motor...</td>\n",
       "      <td>FINALIZADO</td>\n",
       "      <td>05/01/2016</td>\n",
       "      <td>17:31</td>\n",
       "    </tr>\n",
       "    <tr>\n",
       "      <th>2</th>\n",
       "      <td>01/01/2016</td>\n",
       "      <td>00:20</td>\n",
       "      <td>LAPA</td>\n",
       "      <td>LAPA</td>\n",
       "      <td>SPTRANS</td>\n",
       "      <td>Transporte</td>\n",
       "      <td>Linhas e itinerários de ônibus</td>\n",
       "      <td>Alteração de itinerário ou ponto inicial/final</td>\n",
       "      <td>FINALIZADO</td>\n",
       "      <td>05/01/2016</td>\n",
       "      <td>11:58</td>\n",
       "    </tr>\n",
       "    <tr>\n",
       "      <th>3</th>\n",
       "      <td>01/01/2016</td>\n",
       "      <td>00:20</td>\n",
       "      <td>SE</td>\n",
       "      <td>REPUBLICA</td>\n",
       "      <td>SMADS</td>\n",
       "      <td>Cidadania e assistência social</td>\n",
       "      <td>População ou pessoa em situação de rua</td>\n",
       "      <td>Abordagem social a pessoa em situação de rua</td>\n",
       "      <td>FINALIZADO</td>\n",
       "      <td>01/01/2016</td>\n",
       "      <td>00:20</td>\n",
       "    </tr>\n",
       "    <tr>\n",
       "      <th>4</th>\n",
       "      <td>01/01/2016</td>\n",
       "      <td>00:21</td>\n",
       "      <td>ITAQUERA</td>\n",
       "      <td>CIDADE LIDER</td>\n",
       "      <td>CET</td>\n",
       "      <td>Trânsito</td>\n",
       "      <td>Circulação de veículos</td>\n",
       "      <td>Avaliação da circulação e acesso de veículos</td>\n",
       "      <td>FINALIZADO</td>\n",
       "      <td>07/06/2016</td>\n",
       "      <td>18:42</td>\n",
       "    </tr>\n",
       "    <tr>\n",
       "      <th>5</th>\n",
       "      <td>01/01/2016</td>\n",
       "      <td>00:28</td>\n",
       "      <td>PIRITUBA-JARAGUA</td>\n",
       "      <td>JARAGUA</td>\n",
       "      <td>SMPR</td>\n",
       "      <td>Rua e bairro</td>\n",
       "      <td>Buraco e pavimentação</td>\n",
       "      <td>Tapa-buraco</td>\n",
       "      <td>FINALIZADO</td>\n",
       "      <td>12/01/2016</td>\n",
       "      <td>02:00</td>\n",
       "    </tr>\n",
       "    <tr>\n",
       "      <th>6</th>\n",
       "      <td>01/01/2016</td>\n",
       "      <td>00:31</td>\n",
       "      <td>NaN</td>\n",
       "      <td>NaN</td>\n",
       "      <td>SMADS</td>\n",
       "      <td>Cidadania e assistência social</td>\n",
       "      <td>População ou pessoa em situação de rua</td>\n",
       "      <td>Abordagem social a pessoa em situação de rua</td>\n",
       "      <td>FINALIZADO</td>\n",
       "      <td>01/01/2016</td>\n",
       "      <td>00:31</td>\n",
       "    </tr>\n",
       "    <tr>\n",
       "      <th>7</th>\n",
       "      <td>01/01/2016</td>\n",
       "      <td>00:36</td>\n",
       "      <td>PIRITUBA-JARAGUA</td>\n",
       "      <td>JARAGUA</td>\n",
       "      <td>SMPR</td>\n",
       "      <td>Rua e bairro</td>\n",
       "      <td>Buraco e pavimentação</td>\n",
       "      <td>Tapa-buraco</td>\n",
       "      <td>FINALIZADO</td>\n",
       "      <td>12/01/2016</td>\n",
       "      <td>02:00</td>\n",
       "    </tr>\n",
       "    <tr>\n",
       "      <th>8</th>\n",
       "      <td>01/01/2016</td>\n",
       "      <td>00:36</td>\n",
       "      <td>CAPELA DO SOCORRO</td>\n",
       "      <td>CIDADE DUTRA</td>\n",
       "      <td>SMPR</td>\n",
       "      <td>Meio Ambiente</td>\n",
       "      <td>Árvore</td>\n",
       "      <td>Plantio de árvore em vias e áreas públicas</td>\n",
       "      <td>FINALIZADO</td>\n",
       "      <td>22/05/2017</td>\n",
       "      <td>17:17</td>\n",
       "    </tr>\n",
       "    <tr>\n",
       "      <th>9</th>\n",
       "      <td>01/01/2016</td>\n",
       "      <td>00:41</td>\n",
       "      <td>SE</td>\n",
       "      <td>SANTA CECILIA</td>\n",
       "      <td>SMADS</td>\n",
       "      <td>Cidadania e assistência social</td>\n",
       "      <td>População ou pessoa em situação de rua</td>\n",
       "      <td>Abordagem social a pessoa em situação de rua</td>\n",
       "      <td>FINALIZADO</td>\n",
       "      <td>01/01/2016</td>\n",
       "      <td>00:41</td>\n",
       "    </tr>\n",
       "  </tbody>\n",
       "</table>\n",
       "</div>"
      ],
      "text/plain": [
       "  Data de Abertura Hora Abertura Prefeitura Regional       Distrito    Órgão  \\\n",
       "0       01/01/2016         00:04               MOOCA        TATUAPE  SPTRANS   \n",
       "1       01/01/2016         00:16          SAO MIGUEL     SAO MIGUEL   AMLURB   \n",
       "2       01/01/2016         00:20                LAPA           LAPA  SPTRANS   \n",
       "3       01/01/2016         00:20                  SE      REPUBLICA    SMADS   \n",
       "4       01/01/2016         00:21            ITAQUERA   CIDADE LIDER      CET   \n",
       "5       01/01/2016         00:28    PIRITUBA-JARAGUA        JARAGUA     SMPR   \n",
       "6       01/01/2016         00:31                 NaN            NaN    SMADS   \n",
       "7       01/01/2016         00:36    PIRITUBA-JARAGUA        JARAGUA     SMPR   \n",
       "8       01/01/2016         00:36   CAPELA DO SOCORRO   CIDADE DUTRA     SMPR   \n",
       "9       01/01/2016         00:41                  SE  SANTA CECILIA    SMADS   \n",
       "\n",
       "                             Tema  \\\n",
       "0                      Transporte   \n",
       "1                  Lixo e limpeza   \n",
       "2                      Transporte   \n",
       "3  Cidadania e assistência social   \n",
       "4                        Trânsito   \n",
       "5                    Rua e bairro   \n",
       "6  Cidadania e assistência social   \n",
       "7                    Rua e bairro   \n",
       "8                   Meio Ambiente   \n",
       "9  Cidadania e assistência social   \n",
       "\n",
       "                                             Assunto  \\\n",
       "0  Conduta de trabalho do motorista, cobrador e f...   \n",
       "1                            Conduta de funcionários   \n",
       "2                     Linhas e itinerários de ônibus   \n",
       "3             População ou pessoa em situação de rua   \n",
       "4                             Circulação de veículos   \n",
       "5                              Buraco e pavimentação   \n",
       "6             População ou pessoa em situação de rua   \n",
       "7                              Buraco e pavimentação   \n",
       "8                                             Árvore   \n",
       "9             População ou pessoa em situação de rua   \n",
       "\n",
       "                                             Serviço Status da Solicitação  \\\n",
       "0  Denúncia de direção inadequada/perigosa de veí...            FINALIZADO   \n",
       "1  Denúncia de má conduta dos funcionários (motor...            FINALIZADO   \n",
       "2     Alteração de itinerário ou ponto inicial/final            FINALIZADO   \n",
       "3       Abordagem social a pessoa em situação de rua            FINALIZADO   \n",
       "4       Avaliação da circulação e acesso de veículos            FINALIZADO   \n",
       "5                                        Tapa-buraco            FINALIZADO   \n",
       "6       Abordagem social a pessoa em situação de rua            FINALIZADO   \n",
       "7                                        Tapa-buraco            FINALIZADO   \n",
       "8         Plantio de árvore em vias e áreas públicas            FINALIZADO   \n",
       "9       Abordagem social a pessoa em situação de rua            FINALIZADO   \n",
       "\n",
       "  Data do Parecer Hora do Parecer  \n",
       "0      04/01/2016           16:36  \n",
       "1      05/01/2016           17:31  \n",
       "2      05/01/2016           11:58  \n",
       "3      01/01/2016           00:20  \n",
       "4      07/06/2016           18:42  \n",
       "5      12/01/2016           02:00  \n",
       "6      01/01/2016           00:31  \n",
       "7      12/01/2016           02:00  \n",
       "8      22/05/2017           17:17  \n",
       "9      01/01/2016           00:41  "
      ]
     },
     "execution_count": 2,
     "metadata": {},
     "output_type": "execute_result"
    }
   ],
   "source": [
    "# Observação de como eles se distribuem\n",
    "dataset.head(10)"
   ]
  },
  {
   "cell_type": "code",
   "execution_count": 3,
   "metadata": {
    "collapsed": true
   },
   "outputs": [],
   "source": [
    "# Separação de dias, meses e anos\n",
    "dataset['Data de Abertura'] = pd.to_datetime(dataset['Data de Abertura'], errors='coerce')\n",
    "dataset['Dia de Abertura'] = dataset['Data de Abertura'].apply(lambda date: date.day)\n",
    "dataset['Mês de Abertura'] = dataset['Data de Abertura'].apply(lambda date: date.month)\n",
    "dataset['Ano de Abertura'] = dataset['Data de Abertura'].apply(lambda date: date.year)"
   ]
  },
  {
   "cell_type": "code",
   "execution_count": 4,
   "metadata": {},
   "outputs": [
    {
     "data": {
      "text/plain": [
       "FINALIZADO                691902\n",
       "AGUARDANDO ATENDIMENTO    403639\n",
       "CANCELADA                  54623\n",
       "Name: Status da Solicitação, dtype: int64"
      ]
     },
     "execution_count": 4,
     "metadata": {},
     "output_type": "execute_result"
    }
   ],
   "source": [
    "# Contagem por status\n",
    "dataset['Status da Solicitação'].value_counts()"
   ]
  },
  {
   "cell_type": "code",
   "execution_count": 5,
   "metadata": {},
   "outputs": [
    {
     "data": {
      "text/plain": [
       "Ano de Abertura  Status da Solicitação \n",
       "2016             FINALIZADO                535736\n",
       "                 AGUARDANDO ATENDIMENTO    189849\n",
       "                 CANCELADA                  53178\n",
       "2017             AGUARDANDO ATENDIMENTO    213790\n",
       "                 FINALIZADO                156166\n",
       "                 CANCELADA                   1445\n",
       "Name: Status da Solicitação, dtype: int64"
      ]
     },
     "execution_count": 5,
     "metadata": {},
     "output_type": "execute_result"
    }
   ],
   "source": [
    "# Separação por ano e por status\n",
    "dataset_per_year = dataset.groupby(['Ano de Abertura'])\n",
    "dataset_per_year['Status da Solicitação'].value_counts()"
   ]
  },
  {
   "cell_type": "code",
   "execution_count": 12,
   "metadata": {},
   "outputs": [],
   "source": [
    "dataset_finalizado = dataset[dataset['Status da Solicitação'] == 'FINALIZADO']"
   ]
  },
  {
   "cell_type": "code",
   "execution_count": 13,
   "metadata": {},
   "outputs": [
    {
     "data": {
      "text/html": [
       "<div>\n",
       "<style>\n",
       "    .dataframe thead tr:only-child th {\n",
       "        text-align: right;\n",
       "    }\n",
       "\n",
       "    .dataframe thead th {\n",
       "        text-align: left;\n",
       "    }\n",
       "\n",
       "    .dataframe tbody tr th {\n",
       "        vertical-align: top;\n",
       "    }\n",
       "</style>\n",
       "<table border=\"1\" class=\"dataframe\">\n",
       "  <thead>\n",
       "    <tr style=\"text-align: right;\">\n",
       "      <th></th>\n",
       "      <th>Data de Abertura</th>\n",
       "      <th>Hora Abertura</th>\n",
       "      <th>Prefeitura Regional</th>\n",
       "      <th>Distrito</th>\n",
       "      <th>Órgão</th>\n",
       "      <th>Tema</th>\n",
       "      <th>Assunto</th>\n",
       "      <th>Serviço</th>\n",
       "      <th>Status da Solicitação</th>\n",
       "      <th>Data do Parecer</th>\n",
       "      <th>Hora do Parecer</th>\n",
       "      <th>Dia de Abertura</th>\n",
       "      <th>Mês de Abertura</th>\n",
       "      <th>Ano de Abertura</th>\n",
       "    </tr>\n",
       "  </thead>\n",
       "  <tbody>\n",
       "    <tr>\n",
       "      <th>0</th>\n",
       "      <td>2016-01-01</td>\n",
       "      <td>00:04</td>\n",
       "      <td>MOOCA</td>\n",
       "      <td>TATUAPE</td>\n",
       "      <td>SPTRANS</td>\n",
       "      <td>Transporte</td>\n",
       "      <td>Conduta de trabalho do motorista, cobrador e f...</td>\n",
       "      <td>Denúncia de direção inadequada/perigosa de veí...</td>\n",
       "      <td>FINALIZADO</td>\n",
       "      <td>04/01/2016</td>\n",
       "      <td>16:36</td>\n",
       "      <td>1</td>\n",
       "      <td>1</td>\n",
       "      <td>2016</td>\n",
       "    </tr>\n",
       "    <tr>\n",
       "      <th>1</th>\n",
       "      <td>2016-01-01</td>\n",
       "      <td>00:16</td>\n",
       "      <td>SAO MIGUEL</td>\n",
       "      <td>SAO MIGUEL</td>\n",
       "      <td>AMLURB</td>\n",
       "      <td>Lixo e limpeza</td>\n",
       "      <td>Conduta de funcionários</td>\n",
       "      <td>Denúncia de má conduta dos funcionários (motor...</td>\n",
       "      <td>FINALIZADO</td>\n",
       "      <td>05/01/2016</td>\n",
       "      <td>17:31</td>\n",
       "      <td>1</td>\n",
       "      <td>1</td>\n",
       "      <td>2016</td>\n",
       "    </tr>\n",
       "    <tr>\n",
       "      <th>2</th>\n",
       "      <td>2016-01-01</td>\n",
       "      <td>00:20</td>\n",
       "      <td>LAPA</td>\n",
       "      <td>LAPA</td>\n",
       "      <td>SPTRANS</td>\n",
       "      <td>Transporte</td>\n",
       "      <td>Linhas e itinerários de ônibus</td>\n",
       "      <td>Alteração de itinerário ou ponto inicial/final</td>\n",
       "      <td>FINALIZADO</td>\n",
       "      <td>05/01/2016</td>\n",
       "      <td>11:58</td>\n",
       "      <td>1</td>\n",
       "      <td>1</td>\n",
       "      <td>2016</td>\n",
       "    </tr>\n",
       "    <tr>\n",
       "      <th>3</th>\n",
       "      <td>2016-01-01</td>\n",
       "      <td>00:20</td>\n",
       "      <td>SE</td>\n",
       "      <td>REPUBLICA</td>\n",
       "      <td>SMADS</td>\n",
       "      <td>Cidadania e assistência social</td>\n",
       "      <td>População ou pessoa em situação de rua</td>\n",
       "      <td>Abordagem social a pessoa em situação de rua</td>\n",
       "      <td>FINALIZADO</td>\n",
       "      <td>01/01/2016</td>\n",
       "      <td>00:20</td>\n",
       "      <td>1</td>\n",
       "      <td>1</td>\n",
       "      <td>2016</td>\n",
       "    </tr>\n",
       "    <tr>\n",
       "      <th>4</th>\n",
       "      <td>2016-01-01</td>\n",
       "      <td>00:21</td>\n",
       "      <td>ITAQUERA</td>\n",
       "      <td>CIDADE LIDER</td>\n",
       "      <td>CET</td>\n",
       "      <td>Trânsito</td>\n",
       "      <td>Circulação de veículos</td>\n",
       "      <td>Avaliação da circulação e acesso de veículos</td>\n",
       "      <td>FINALIZADO</td>\n",
       "      <td>07/06/2016</td>\n",
       "      <td>18:42</td>\n",
       "      <td>1</td>\n",
       "      <td>1</td>\n",
       "      <td>2016</td>\n",
       "    </tr>\n",
       "  </tbody>\n",
       "</table>\n",
       "</div>"
      ],
      "text/plain": [
       "  Data de Abertura Hora Abertura Prefeitura Regional      Distrito    Órgão  \\\n",
       "0       2016-01-01         00:04               MOOCA       TATUAPE  SPTRANS   \n",
       "1       2016-01-01         00:16          SAO MIGUEL    SAO MIGUEL   AMLURB   \n",
       "2       2016-01-01         00:20                LAPA          LAPA  SPTRANS   \n",
       "3       2016-01-01         00:20                  SE     REPUBLICA    SMADS   \n",
       "4       2016-01-01         00:21            ITAQUERA  CIDADE LIDER      CET   \n",
       "\n",
       "                             Tema  \\\n",
       "0                      Transporte   \n",
       "1                  Lixo e limpeza   \n",
       "2                      Transporte   \n",
       "3  Cidadania e assistência social   \n",
       "4                        Trânsito   \n",
       "\n",
       "                                             Assunto  \\\n",
       "0  Conduta de trabalho do motorista, cobrador e f...   \n",
       "1                            Conduta de funcionários   \n",
       "2                     Linhas e itinerários de ônibus   \n",
       "3             População ou pessoa em situação de rua   \n",
       "4                             Circulação de veículos   \n",
       "\n",
       "                                             Serviço Status da Solicitação  \\\n",
       "0  Denúncia de direção inadequada/perigosa de veí...            FINALIZADO   \n",
       "1  Denúncia de má conduta dos funcionários (motor...            FINALIZADO   \n",
       "2     Alteração de itinerário ou ponto inicial/final            FINALIZADO   \n",
       "3       Abordagem social a pessoa em situação de rua            FINALIZADO   \n",
       "4       Avaliação da circulação e acesso de veículos            FINALIZADO   \n",
       "\n",
       "  Data do Parecer Hora do Parecer  Dia de Abertura  Mês de Abertura  \\\n",
       "0      04/01/2016           16:36                1                1   \n",
       "1      05/01/2016           17:31                1                1   \n",
       "2      05/01/2016           11:58                1                1   \n",
       "3      01/01/2016           00:20                1                1   \n",
       "4      07/06/2016           18:42                1                1   \n",
       "\n",
       "   Ano de Abertura  \n",
       "0             2016  \n",
       "1             2016  \n",
       "2             2016  \n",
       "3             2016  \n",
       "4             2016  "
      ]
     },
     "execution_count": 13,
     "metadata": {},
     "output_type": "execute_result"
    }
   ],
   "source": [
    "dataset_finalizado.head()"
   ]
  },
  {
   "cell_type": "code",
   "execution_count": 14,
   "metadata": {},
   "outputs": [
    {
     "name": "stderr",
     "output_type": "stream",
     "text": [
      "C:\\ProgramData\\Anaconda3\\lib\\site-packages\\ipykernel_launcher.py:2: SettingWithCopyWarning: \n",
      "A value is trying to be set on a copy of a slice from a DataFrame.\n",
      "Try using .loc[row_indexer,col_indexer] = value instead\n",
      "\n",
      "See the caveats in the documentation: http://pandas.pydata.org/pandas-docs/stable/indexing.html#indexing-view-versus-copy\n",
      "  \n",
      "C:\\ProgramData\\Anaconda3\\lib\\site-packages\\ipykernel_launcher.py:3: SettingWithCopyWarning: \n",
      "A value is trying to be set on a copy of a slice from a DataFrame.\n",
      "Try using .loc[row_indexer,col_indexer] = value instead\n",
      "\n",
      "See the caveats in the documentation: http://pandas.pydata.org/pandas-docs/stable/indexing.html#indexing-view-versus-copy\n",
      "  This is separate from the ipykernel package so we can avoid doing imports until\n",
      "C:\\ProgramData\\Anaconda3\\lib\\site-packages\\ipykernel_launcher.py:4: SettingWithCopyWarning: \n",
      "A value is trying to be set on a copy of a slice from a DataFrame.\n",
      "Try using .loc[row_indexer,col_indexer] = value instead\n",
      "\n",
      "See the caveats in the documentation: http://pandas.pydata.org/pandas-docs/stable/indexing.html#indexing-view-versus-copy\n",
      "  after removing the cwd from sys.path.\n",
      "C:\\ProgramData\\Anaconda3\\lib\\site-packages\\ipykernel_launcher.py:5: SettingWithCopyWarning: \n",
      "A value is trying to be set on a copy of a slice from a DataFrame.\n",
      "Try using .loc[row_indexer,col_indexer] = value instead\n",
      "\n",
      "See the caveats in the documentation: http://pandas.pydata.org/pandas-docs/stable/indexing.html#indexing-view-versus-copy\n",
      "  \"\"\"\n"
     ]
    }
   ],
   "source": [
    "# Separação de dias, meses e anos\n",
    "dataset_finalizado['Data do Parecer'] = pd.to_datetime(dataset_finalizado['Data do Parecer'], errors='coerce')\n",
    "dataset_finalizado['Dia do Parecer'] = dataset_finalizado['Data do Parecer'].apply(lambda date: date.day)\n",
    "dataset_finalizado['Mês do Parecer'] = dataset_finalizado['Data do Parecer'].apply(lambda date: date.month)\n",
    "dataset_finalizado['Ano do Parecer'] = dataset_finalizado['Data do Parecer'].apply(lambda date: date.year)"
   ]
  },
  {
   "cell_type": "code",
   "execution_count": 16,
   "metadata": {},
   "outputs": [
    {
     "data": {
      "text/plain": [
       "(691902, 17)"
      ]
     },
     "execution_count": 16,
     "metadata": {},
     "output_type": "execute_result"
    }
   ],
   "source": [
    "dataset_finalizado.shape"
   ]
  },
  {
   "cell_type": "code",
   "execution_count": 31,
   "metadata": {
    "collapsed": true
   },
   "outputs": [],
   "source": [
    "dataset_finalizado_1s2016 = dataset_finalizado[dataset_finalizado['Ano do Parecer'] == 2016]\n",
    "dataset_finalizado_1s2016 = dataset_finalizado_1s2016[dataset_finalizado_1s2016['Mês do Parecer'] <= 6]\n",
    "dataset_finalizado_1s2016['Semestre'] = 1\n",
    "dataset_finalizado_2s2016 = dataset_finalizado[dataset_finalizado['Ano do Parecer'] == 2016]\n",
    "dataset_finalizado_2s2016 = dataset_finalizado_2s2016[dataset_finalizado_2s2016['Mês do Parecer'] >= 7]\n",
    "dataset_finalizado_2s2016['Semestre'] = 2\n",
    "dataset_finalizado_1s2017 = dataset_finalizado[dataset_finalizado['Ano do Parecer'] == 2017]\n",
    "dataset_finalizado_1s2017 = dataset_finalizado_1s2017[dataset_finalizado_1s2017['Mês do Parecer'] <= 6]\n",
    "dataset_finalizado_1s2017['Semestre'] = 1"
   ]
  },
  {
   "cell_type": "code",
   "execution_count": 32,
   "metadata": {},
   "outputs": [
    {
     "data": {
      "text/plain": [
       "(245141, 18)"
      ]
     },
     "execution_count": 32,
     "metadata": {},
     "output_type": "execute_result"
    }
   ],
   "source": [
    "dataset_finalizado_1s2016.shape"
   ]
  },
  {
   "cell_type": "code",
   "execution_count": 33,
   "metadata": {},
   "outputs": [
    {
     "data": {
      "text/plain": [
       "(216215, 18)"
      ]
     },
     "execution_count": 33,
     "metadata": {},
     "output_type": "execute_result"
    }
   ],
   "source": [
    "dataset_finalizado_2s2016.shape"
   ]
  },
  {
   "cell_type": "code",
   "execution_count": 34,
   "metadata": {},
   "outputs": [
    {
     "data": {
      "text/plain": [
       "(175621, 18)"
      ]
     },
     "execution_count": 34,
     "metadata": {},
     "output_type": "execute_result"
    }
   ],
   "source": [
    "dataset_finalizado_1s2017.shape"
   ]
  },
  {
   "cell_type": "markdown",
   "metadata": {},
   "source": [
    "### Conclusão 1\n",
    "\n",
    "Entre janeiro de 2016 e maio de 2017 -- último mês disponível nos dados da Prefeitura abertos ao público --, a SP156 registrou 1.150.164 ocorrências. Dessas, 691.902 foram finalizadas.\n",
    "\n",
    "**Gestão Haddad**\n",
    "\n",
    "O primeiro semestre de 2016 teve o maior número de ocorrências encerradas. Foram 245.141.\n",
    "Houve uma queda no segundo semestre do mesmo ano, para 216.215 -- 11,79% em relação ao período anterior.\n",
    "\n",
    "**Gestão Doria**\n",
    "\n",
    "Até maio de 2017, a resolução de atendimentos teve nova diminuição. Foram 175.621, o que representa queda de 28,35% na comparação com o primeiro semestre de 2016, e queda de 18,77% em relação ao segundo semestre do ano passado."
   ]
  }
 ],
 "metadata": {
  "kernelspec": {
   "display_name": "Python 3",
   "language": "python",
   "name": "python3"
  },
  "language_info": {
   "codemirror_mode": {
    "name": "ipython",
    "version": 3
   },
   "file_extension": ".py",
   "mimetype": "text/x-python",
   "name": "python",
   "nbconvert_exporter": "python",
   "pygments_lexer": "ipython3",
   "version": "3.6.1"
  }
 },
 "nbformat": 4,
 "nbformat_minor": 2
}
